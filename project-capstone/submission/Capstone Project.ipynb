{
 "cells": [
  {
   "cell_type": "markdown",
   "metadata": {
    "editable": true
   },
   "source": [
    "# Tuan Nguyen's Project\n",
    "## Data Engineering Capstone Project\n",
    "\n",
    "## Project Summary\n",
    "\n",
    "- The purpose of the data engineering capstone project is to give student a chance to combine what I learned throughout the program. This project will be an important part of my portfolio that will help you achieve my data engineering-related career goals.\n",
    "\n",
    "## The project follows the follow steps:\n",
    "* **Step 1**: Scope the Project and Gather Data\n",
    "* **Step 2**: Explore and Assess the Data\n",
    "* **Step 3**: Define the Data Model\n",
    "* **Step 4**: Run ETL to Model the Data\n",
    "* **Step 5**: Complete Project Write Up"
   ]
  },
  {
   "cell_type": "markdown",
   "metadata": {
    "editable": true
   },
   "source": [
    "---"
   ]
  },
  {
   "cell_type": "markdown",
   "metadata": {
    "editable": true
   },
   "source": [
    "# Step 1: Scope the Project and Gather Data\n",
    "\n",
    "## Scope \n",
    "Explain what you plan to do in the project in more detail. What data do you use? What is your end solution look like? What tools did you use? etc>"
   ]
  },
  {
   "cell_type": "markdown",
   "metadata": {
    "editable": true
   },
   "source": [
    "- We will gather data, then explore it to see what is inside of them. \n",
    "- We will use the Udacity provided project datasets. \n",
    "- The end solutions should be an OLAP model which can be used by Data Analysts/Data Scientists to work with. \n",
    "- The tools will be used are:\n",
    "    - Spark\n",
    "    - https://dbdiagram.io/ - A database diagram tool we use to draw the relational model"
   ]
  },
  {
   "cell_type": "markdown",
   "metadata": {
    "editable": true
   },
   "source": [
    "# Describe and Gather Data \n",
    "Describe the data sets you're using. Where did it come from? What type of information is included? "
   ]
  },
  {
   "cell_type": "markdown",
   "metadata": {
    "editable": true
   },
   "source": [
    "## Describe datasets\n",
    "\n",
    "In the Udacity provided project, we'll work with four datasets to complete the project. \n",
    "\n",
    "The main dataset will include data on immigration to the United States, and supplementary datasets will include data on airport codes, U.S. city demographics, and temperature data. \n",
    "\n",
    "We're also welcome to enrich the project with additional data if we'd like to set your project apart.\n",
    "\n",
    "- **I94 Immigration Data**: This data comes from the US National Tourism and Trade Office. A data dictionary is included in the workspace. This is where the data comes from. There's a sample file so you can take a look at the data in csv format before reading it all in. You do not have to use the entire dataset, just use what you need to accomplish the goal you set at the beginning of the project.\n",
    "- **World Temperature Data**: This dataset came from Kaggle. You can read more about it here.\n",
    "- **U.S. City Demographic Data**: This data comes from OpenSoft. You can read more about it here.\n",
    "- **Airport Code Table**: This is a simple table of airport codes and corresponding cities. It comes from here."
   ]
  },
  {
   "cell_type": "markdown",
   "metadata": {
    "editable": true
   },
   "source": [
    "## Gather data"
   ]
  },
  {
   "cell_type": "code",
   "execution_count": 1,
   "metadata": {
    "editable": true
   },
   "outputs": [],
   "source": [
    "# Do all imports and installs here\n",
    "import pandas as pd\n",
    "from pyspark.sql import SparkSession\n",
    "from pyspark.sql.functions import substring, translate\n",
    "from pyspark.sql.functions import year, month, dayofmonth\n",
    "from pyspark.sql.functions import trim"
   ]
  },
  {
   "cell_type": "markdown",
   "metadata": {
    "editable": true
   },
   "source": [
    "*First, we tried to use Pandas DataFrame but it was kind of slow*"
   ]
  },
  {
   "cell_type": "code",
   "execution_count": 2,
   "metadata": {
    "editable": true
   },
   "outputs": [],
   "source": [
    "# Read in the data here\n",
    "# fname = '../../data/18-83510-I94-Data-2016/i94_apr16_sub.sas7bdat'\n",
    "# df = pd.read_sas(fname, 'sas7bdat', encoding=\"ISO-8859-1\")\n",
    "# df.head()"
   ]
  },
  {
   "cell_type": "code",
   "execution_count": 3,
   "metadata": {
    "editable": true
   },
   "outputs": [],
   "source": [
    "# fname = '../../data2/GlobalLandTemperaturesByCity.csv'\n",
    "# df = pd.read_csv(fname)\n",
    "# df.head()"
   ]
  },
  {
   "cell_type": "markdown",
   "metadata": {
    "editable": true
   },
   "source": [
    "*Then we switched to Spark, which can work with high computational services*"
   ]
  },
  {
   "cell_type": "markdown",
   "metadata": {
    "editable": true
   },
   "source": [
    "### Read I94 Immigration SAS Dataset"
   ]
  },
  {
   "cell_type": "code",
   "execution_count": 4,
   "metadata": {
    "editable": true
   },
   "outputs": [
    {
     "name": "stdout",
     "output_type": "stream",
     "text": [
      "root\n",
      " |-- cicid: double (nullable = true)\n",
      " |-- i94yr: double (nullable = true)\n",
      " |-- i94mon: double (nullable = true)\n",
      " |-- i94cit: double (nullable = true)\n",
      " |-- i94res: double (nullable = true)\n",
      " |-- i94port: string (nullable = true)\n",
      " |-- arrdate: double (nullable = true)\n",
      " |-- i94mode: double (nullable = true)\n",
      " |-- i94addr: string (nullable = true)\n",
      " |-- depdate: double (nullable = true)\n",
      " |-- i94bir: double (nullable = true)\n",
      " |-- i94visa: double (nullable = true)\n",
      " |-- count: double (nullable = true)\n",
      " |-- dtadfile: string (nullable = true)\n",
      " |-- visapost: string (nullable = true)\n",
      " |-- occup: string (nullable = true)\n",
      " |-- entdepa: string (nullable = true)\n",
      " |-- entdepd: string (nullable = true)\n",
      " |-- entdepu: string (nullable = true)\n",
      " |-- matflag: string (nullable = true)\n",
      " |-- biryear: double (nullable = true)\n",
      " |-- dtaddto: string (nullable = true)\n",
      " |-- gender: string (nullable = true)\n",
      " |-- insnum: string (nullable = true)\n",
      " |-- airline: string (nullable = true)\n",
      " |-- admnum: double (nullable = true)\n",
      " |-- fltno: string (nullable = true)\n",
      " |-- visatype: string (nullable = true)\n",
      "\n"
     ]
    },
    {
     "data": {
      "text/plain": [
       "3096313"
      ]
     },
     "execution_count": 4,
     "metadata": {},
     "output_type": "execute_result"
    }
   ],
   "source": [
    "spark = SparkSession \\\n",
    "    .builder \\\n",
    "    .config(\"spark.jars.repositories\", \"https://repos.spark-packages.org/\") \\\n",
    "    .config(\"spark.jars.packages\", \"saurfang:spark-sas7bdat:2.0.0-s_2.11\") \\\n",
    "    .enableHiveSupport() \\\n",
    "    .getOrCreate()\n",
    "\n",
    "sas_df = spark \\\n",
    "    .read.format('com.github.saurfang.sas.spark') \\\n",
    "    .load('../../data/18-83510-I94-Data-2016/i94_apr16_sub.sas7bdat') \\\n",
    "\n",
    "# Load full data\n",
    "# sas_df = spark \\\n",
    "#     .read.format('com.github.saurfang.sas.spark') \\\n",
    "#     .load('../../data/18-83510-I94-Data-2016/') \\\n",
    "\n",
    "# write to parquet\n",
    "# sas_df.write.mode('overwrite').parquet(\"sas_data\")\n",
    "\n",
    "sas_df.printSchema()\n",
    "sas_df.count()"
   ]
  },
  {
   "cell_type": "markdown",
   "metadata": {
    "editable": true
   },
   "source": [
    "### Read World Temperature Dataset"
   ]
  },
  {
   "cell_type": "code",
   "execution_count": 5,
   "metadata": {
    "editable": true
   },
   "outputs": [
    {
     "name": "stdout",
     "output_type": "stream",
     "text": [
      "root\n",
      " |-- dt: timestamp (nullable = true)\n",
      " |-- AverageTemperature: double (nullable = true)\n",
      " |-- AverageTemperatureUncertainty: double (nullable = true)\n",
      " |-- City: string (nullable = true)\n",
      " |-- Country: string (nullable = true)\n",
      " |-- Latitude: string (nullable = true)\n",
      " |-- Longitude: string (nullable = true)\n",
      "\n"
     ]
    },
    {
     "data": {
      "text/plain": [
       "8599212"
      ]
     },
     "execution_count": 5,
     "metadata": {},
     "output_type": "execute_result"
    }
   ],
   "source": [
    "global_temp_df = spark.read \\\n",
    "    .option(\"header\", True) \\\n",
    "    .option(\"inferSchema\", True) \\\n",
    "    .csv('../../data2/GlobalLandTemperaturesByCity.csv')\n",
    "\n",
    "global_temp_df.printSchema()\n",
    "global_temp_df.count()"
   ]
  },
  {
   "cell_type": "markdown",
   "metadata": {
    "editable": true
   },
   "source": [
    "### Read US Cities Demographic Dataset"
   ]
  },
  {
   "cell_type": "code",
   "execution_count": 6,
   "metadata": {
    "editable": true
   },
   "outputs": [
    {
     "name": "stdout",
     "output_type": "stream",
     "text": [
      "root\n",
      " |-- City: string (nullable = true)\n",
      " |-- State: string (nullable = true)\n",
      " |-- Median Age: double (nullable = true)\n",
      " |-- Male Population: integer (nullable = true)\n",
      " |-- Female Population: integer (nullable = true)\n",
      " |-- Total Population: integer (nullable = true)\n",
      " |-- Number of Veterans: integer (nullable = true)\n",
      " |-- Foreign-born: integer (nullable = true)\n",
      " |-- Average Household Size: double (nullable = true)\n",
      " |-- State Code: string (nullable = true)\n",
      " |-- Race: string (nullable = true)\n",
      " |-- Count: integer (nullable = true)\n",
      "\n"
     ]
    },
    {
     "data": {
      "text/plain": [
       "2891"
      ]
     },
     "execution_count": 6,
     "metadata": {},
     "output_type": "execute_result"
    }
   ],
   "source": [
    "us_cities_df = spark.read \\\n",
    "    .option(\"delimiter\", \";\") \\\n",
    "    .option(\"header\", True) \\\n",
    "    .option(\"inferSchema\", True) \\\n",
    "    .csv('us-cities-demographics.csv')\n",
    "\n",
    "us_cities_df.printSchema()\n",
    "us_cities_df.count()"
   ]
  },
  {
   "cell_type": "markdown",
   "metadata": {
    "editable": true
   },
   "source": [
    "### Read Airport Code Dataset"
   ]
  },
  {
   "cell_type": "code",
   "execution_count": 7,
   "metadata": {
    "editable": true
   },
   "outputs": [
    {
     "name": "stdout",
     "output_type": "stream",
     "text": [
      "root\n",
      " |-- ident: string (nullable = true)\n",
      " |-- type: string (nullable = true)\n",
      " |-- name: string (nullable = true)\n",
      " |-- elevation_ft: integer (nullable = true)\n",
      " |-- continent: string (nullable = true)\n",
      " |-- iso_country: string (nullable = true)\n",
      " |-- iso_region: string (nullable = true)\n",
      " |-- municipality: string (nullable = true)\n",
      " |-- gps_code: string (nullable = true)\n",
      " |-- iata_code: string (nullable = true)\n",
      " |-- local_code: string (nullable = true)\n",
      " |-- coordinates: string (nullable = true)\n",
      "\n"
     ]
    },
    {
     "data": {
      "text/plain": [
       "55075"
      ]
     },
     "execution_count": 7,
     "metadata": {},
     "output_type": "execute_result"
    }
   ],
   "source": [
    "airport_code_df = spark.read \\\n",
    "    .option(\"delimiter\", \",\") \\\n",
    "    .option(\"header\", True) \\\n",
    "    .option(\"inferSchema\", True) \\\n",
    "    .csv('airport-codes_csv.csv')\n",
    "\n",
    "airport_code_df.printSchema()\n",
    "airport_code_df.count()"
   ]
  },
  {
   "cell_type": "markdown",
   "metadata": {
    "editable": true
   },
   "source": [
    "---"
   ]
  },
  {
   "cell_type": "markdown",
   "metadata": {
    "editable": true
   },
   "source": [
    "# Step 2: Explore and Assess the Data\n",
    "## Explore the Data \n",
    "Identify data quality issues, like missing values, duplicate data, etc."
   ]
  },
  {
   "cell_type": "markdown",
   "metadata": {
    "editable": true
   },
   "source": [
    "### Explore I94 data"
   ]
  },
  {
   "cell_type": "code",
   "execution_count": 8,
   "metadata": {
    "editable": true
   },
   "outputs": [
    {
     "data": {
      "text/html": [
       "<div>\n",
       "<style scoped>\n",
       "    .dataframe tbody tr th:only-of-type {\n",
       "        vertical-align: middle;\n",
       "    }\n",
       "\n",
       "    .dataframe tbody tr th {\n",
       "        vertical-align: top;\n",
       "    }\n",
       "\n",
       "    .dataframe thead th {\n",
       "        text-align: right;\n",
       "    }\n",
       "</style>\n",
       "<table border=\"1\" class=\"dataframe\">\n",
       "  <thead>\n",
       "    <tr style=\"text-align: right;\">\n",
       "      <th></th>\n",
       "      <th>cicid</th>\n",
       "      <th>i94yr</th>\n",
       "      <th>i94mon</th>\n",
       "      <th>i94cit</th>\n",
       "      <th>i94res</th>\n",
       "      <th>i94port</th>\n",
       "      <th>arrdate</th>\n",
       "      <th>i94mode</th>\n",
       "      <th>i94addr</th>\n",
       "      <th>depdate</th>\n",
       "      <th>i94bir</th>\n",
       "      <th>i94visa</th>\n",
       "      <th>count</th>\n",
       "      <th>dtadfile</th>\n",
       "      <th>visapost</th>\n",
       "    </tr>\n",
       "  </thead>\n",
       "  <tbody>\n",
       "    <tr>\n",
       "      <th>0</th>\n",
       "      <td>6.0</td>\n",
       "      <td>2016.0</td>\n",
       "      <td>4.0</td>\n",
       "      <td>692.0</td>\n",
       "      <td>692.0</td>\n",
       "      <td>XXX</td>\n",
       "      <td>20573.0</td>\n",
       "      <td>NaN</td>\n",
       "      <td>None</td>\n",
       "      <td>NaN</td>\n",
       "      <td>37.0</td>\n",
       "      <td>2.0</td>\n",
       "      <td>1.0</td>\n",
       "      <td>None</td>\n",
       "      <td>None</td>\n",
       "    </tr>\n",
       "    <tr>\n",
       "      <th>1</th>\n",
       "      <td>7.0</td>\n",
       "      <td>2016.0</td>\n",
       "      <td>4.0</td>\n",
       "      <td>254.0</td>\n",
       "      <td>276.0</td>\n",
       "      <td>ATL</td>\n",
       "      <td>20551.0</td>\n",
       "      <td>1.0</td>\n",
       "      <td>AL</td>\n",
       "      <td>NaN</td>\n",
       "      <td>25.0</td>\n",
       "      <td>3.0</td>\n",
       "      <td>1.0</td>\n",
       "      <td>20130811</td>\n",
       "      <td>SEO</td>\n",
       "    </tr>\n",
       "    <tr>\n",
       "      <th>2</th>\n",
       "      <td>15.0</td>\n",
       "      <td>2016.0</td>\n",
       "      <td>4.0</td>\n",
       "      <td>101.0</td>\n",
       "      <td>101.0</td>\n",
       "      <td>WAS</td>\n",
       "      <td>20545.0</td>\n",
       "      <td>1.0</td>\n",
       "      <td>MI</td>\n",
       "      <td>20691.0</td>\n",
       "      <td>55.0</td>\n",
       "      <td>2.0</td>\n",
       "      <td>1.0</td>\n",
       "      <td>20160401</td>\n",
       "      <td>None</td>\n",
       "    </tr>\n",
       "    <tr>\n",
       "      <th>3</th>\n",
       "      <td>16.0</td>\n",
       "      <td>2016.0</td>\n",
       "      <td>4.0</td>\n",
       "      <td>101.0</td>\n",
       "      <td>101.0</td>\n",
       "      <td>NYC</td>\n",
       "      <td>20545.0</td>\n",
       "      <td>1.0</td>\n",
       "      <td>MA</td>\n",
       "      <td>20567.0</td>\n",
       "      <td>28.0</td>\n",
       "      <td>2.0</td>\n",
       "      <td>1.0</td>\n",
       "      <td>20160401</td>\n",
       "      <td>None</td>\n",
       "    </tr>\n",
       "    <tr>\n",
       "      <th>4</th>\n",
       "      <td>17.0</td>\n",
       "      <td>2016.0</td>\n",
       "      <td>4.0</td>\n",
       "      <td>101.0</td>\n",
       "      <td>101.0</td>\n",
       "      <td>NYC</td>\n",
       "      <td>20545.0</td>\n",
       "      <td>1.0</td>\n",
       "      <td>MA</td>\n",
       "      <td>20567.0</td>\n",
       "      <td>4.0</td>\n",
       "      <td>2.0</td>\n",
       "      <td>1.0</td>\n",
       "      <td>20160401</td>\n",
       "      <td>None</td>\n",
       "    </tr>\n",
       "  </tbody>\n",
       "</table>\n",
       "</div>"
      ],
      "text/plain": [
       "   cicid   i94yr  i94mon  i94cit  i94res i94port  arrdate  i94mode i94addr  \\\n",
       "0    6.0  2016.0     4.0   692.0   692.0     XXX  20573.0      NaN    None   \n",
       "1    7.0  2016.0     4.0   254.0   276.0     ATL  20551.0      1.0      AL   \n",
       "2   15.0  2016.0     4.0   101.0   101.0     WAS  20545.0      1.0      MI   \n",
       "3   16.0  2016.0     4.0   101.0   101.0     NYC  20545.0      1.0      MA   \n",
       "4   17.0  2016.0     4.0   101.0   101.0     NYC  20545.0      1.0      MA   \n",
       "\n",
       "   depdate  i94bir  i94visa  count  dtadfile visapost  \n",
       "0      NaN    37.0      2.0    1.0      None     None  \n",
       "1      NaN    25.0      3.0    1.0  20130811      SEO  \n",
       "2  20691.0    55.0      2.0    1.0  20160401     None  \n",
       "3  20567.0    28.0      2.0    1.0  20160401     None  \n",
       "4  20567.0     4.0      2.0    1.0  20160401     None  "
      ]
     },
     "execution_count": 8,
     "metadata": {},
     "output_type": "execute_result"
    }
   ],
   "source": [
    "sas_df.select(sas_df.columns[:15]).limit(5).toPandas()"
   ]
  },
  {
   "cell_type": "code",
   "execution_count": 9,
   "metadata": {
    "editable": true
   },
   "outputs": [
    {
     "data": {
      "text/html": [
       "<div>\n",
       "<style scoped>\n",
       "    .dataframe tbody tr th:only-of-type {\n",
       "        vertical-align: middle;\n",
       "    }\n",
       "\n",
       "    .dataframe tbody tr th {\n",
       "        vertical-align: top;\n",
       "    }\n",
       "\n",
       "    .dataframe thead th {\n",
       "        text-align: right;\n",
       "    }\n",
       "</style>\n",
       "<table border=\"1\" class=\"dataframe\">\n",
       "  <thead>\n",
       "    <tr style=\"text-align: right;\">\n",
       "      <th></th>\n",
       "      <th>occup</th>\n",
       "      <th>entdepa</th>\n",
       "      <th>entdepd</th>\n",
       "      <th>entdepu</th>\n",
       "      <th>matflag</th>\n",
       "      <th>biryear</th>\n",
       "      <th>dtaddto</th>\n",
       "      <th>gender</th>\n",
       "      <th>insnum</th>\n",
       "      <th>airline</th>\n",
       "      <th>admnum</th>\n",
       "      <th>fltno</th>\n",
       "      <th>visatype</th>\n",
       "    </tr>\n",
       "  </thead>\n",
       "  <tbody>\n",
       "    <tr>\n",
       "      <th>0</th>\n",
       "      <td>None</td>\n",
       "      <td>T</td>\n",
       "      <td>None</td>\n",
       "      <td>U</td>\n",
       "      <td>None</td>\n",
       "      <td>1979.0</td>\n",
       "      <td>10282016</td>\n",
       "      <td>None</td>\n",
       "      <td>None</td>\n",
       "      <td>None</td>\n",
       "      <td>1.897628e+09</td>\n",
       "      <td>None</td>\n",
       "      <td>B2</td>\n",
       "    </tr>\n",
       "    <tr>\n",
       "      <th>1</th>\n",
       "      <td>None</td>\n",
       "      <td>G</td>\n",
       "      <td>None</td>\n",
       "      <td>Y</td>\n",
       "      <td>None</td>\n",
       "      <td>1991.0</td>\n",
       "      <td>D/S</td>\n",
       "      <td>M</td>\n",
       "      <td>None</td>\n",
       "      <td>None</td>\n",
       "      <td>3.736796e+09</td>\n",
       "      <td>00296</td>\n",
       "      <td>F1</td>\n",
       "    </tr>\n",
       "    <tr>\n",
       "      <th>2</th>\n",
       "      <td>None</td>\n",
       "      <td>T</td>\n",
       "      <td>O</td>\n",
       "      <td>None</td>\n",
       "      <td>M</td>\n",
       "      <td>1961.0</td>\n",
       "      <td>09302016</td>\n",
       "      <td>M</td>\n",
       "      <td>None</td>\n",
       "      <td>OS</td>\n",
       "      <td>6.666432e+08</td>\n",
       "      <td>93</td>\n",
       "      <td>B2</td>\n",
       "    </tr>\n",
       "    <tr>\n",
       "      <th>3</th>\n",
       "      <td>None</td>\n",
       "      <td>O</td>\n",
       "      <td>O</td>\n",
       "      <td>None</td>\n",
       "      <td>M</td>\n",
       "      <td>1988.0</td>\n",
       "      <td>09302016</td>\n",
       "      <td>None</td>\n",
       "      <td>None</td>\n",
       "      <td>AA</td>\n",
       "      <td>9.246846e+10</td>\n",
       "      <td>00199</td>\n",
       "      <td>B2</td>\n",
       "    </tr>\n",
       "    <tr>\n",
       "      <th>4</th>\n",
       "      <td>None</td>\n",
       "      <td>O</td>\n",
       "      <td>O</td>\n",
       "      <td>None</td>\n",
       "      <td>M</td>\n",
       "      <td>2012.0</td>\n",
       "      <td>09302016</td>\n",
       "      <td>None</td>\n",
       "      <td>None</td>\n",
       "      <td>AA</td>\n",
       "      <td>9.246846e+10</td>\n",
       "      <td>00199</td>\n",
       "      <td>B2</td>\n",
       "    </tr>\n",
       "  </tbody>\n",
       "</table>\n",
       "</div>"
      ],
      "text/plain": [
       "  occup entdepa entdepd entdepu matflag  biryear   dtaddto gender insnum  \\\n",
       "0  None       T    None       U    None   1979.0  10282016   None   None   \n",
       "1  None       G    None       Y    None   1991.0       D/S      M   None   \n",
       "2  None       T       O    None       M   1961.0  09302016      M   None   \n",
       "3  None       O       O    None       M   1988.0  09302016   None   None   \n",
       "4  None       O       O    None       M   2012.0  09302016   None   None   \n",
       "\n",
       "  airline        admnum  fltno visatype  \n",
       "0    None  1.897628e+09   None       B2  \n",
       "1    None  3.736796e+09  00296       F1  \n",
       "2      OS  6.666432e+08     93       B2  \n",
       "3      AA  9.246846e+10  00199       B2  \n",
       "4      AA  9.246846e+10  00199       B2  "
      ]
     },
     "execution_count": 9,
     "metadata": {},
     "output_type": "execute_result"
    }
   ],
   "source": [
    "sas_df.select(sas_df.columns[15:]).limit(5).toPandas()"
   ]
  },
  {
   "cell_type": "markdown",
   "metadata": {
    "editable": true
   },
   "source": [
    "### Explore Global Temperature data"
   ]
  },
  {
   "cell_type": "code",
   "execution_count": 10,
   "metadata": {
    "editable": true
   },
   "outputs": [
    {
     "data": {
      "text/html": [
       "<div>\n",
       "<style scoped>\n",
       "    .dataframe tbody tr th:only-of-type {\n",
       "        vertical-align: middle;\n",
       "    }\n",
       "\n",
       "    .dataframe tbody tr th {\n",
       "        vertical-align: top;\n",
       "    }\n",
       "\n",
       "    .dataframe thead th {\n",
       "        text-align: right;\n",
       "    }\n",
       "</style>\n",
       "<table border=\"1\" class=\"dataframe\">\n",
       "  <thead>\n",
       "    <tr style=\"text-align: right;\">\n",
       "      <th></th>\n",
       "      <th>dt</th>\n",
       "      <th>AverageTemperature</th>\n",
       "      <th>AverageTemperatureUncertainty</th>\n",
       "      <th>City</th>\n",
       "      <th>Country</th>\n",
       "      <th>Latitude</th>\n",
       "      <th>Longitude</th>\n",
       "    </tr>\n",
       "  </thead>\n",
       "  <tbody>\n",
       "    <tr>\n",
       "      <th>0</th>\n",
       "      <td>1743-11-01</td>\n",
       "      <td>6.068</td>\n",
       "      <td>1.737</td>\n",
       "      <td>Århus</td>\n",
       "      <td>Denmark</td>\n",
       "      <td>57.05N</td>\n",
       "      <td>10.33E</td>\n",
       "    </tr>\n",
       "    <tr>\n",
       "      <th>1</th>\n",
       "      <td>1743-12-01</td>\n",
       "      <td>NaN</td>\n",
       "      <td>NaN</td>\n",
       "      <td>Århus</td>\n",
       "      <td>Denmark</td>\n",
       "      <td>57.05N</td>\n",
       "      <td>10.33E</td>\n",
       "    </tr>\n",
       "    <tr>\n",
       "      <th>2</th>\n",
       "      <td>1744-01-01</td>\n",
       "      <td>NaN</td>\n",
       "      <td>NaN</td>\n",
       "      <td>Århus</td>\n",
       "      <td>Denmark</td>\n",
       "      <td>57.05N</td>\n",
       "      <td>10.33E</td>\n",
       "    </tr>\n",
       "    <tr>\n",
       "      <th>3</th>\n",
       "      <td>1744-02-01</td>\n",
       "      <td>NaN</td>\n",
       "      <td>NaN</td>\n",
       "      <td>Århus</td>\n",
       "      <td>Denmark</td>\n",
       "      <td>57.05N</td>\n",
       "      <td>10.33E</td>\n",
       "    </tr>\n",
       "    <tr>\n",
       "      <th>4</th>\n",
       "      <td>1744-03-01</td>\n",
       "      <td>NaN</td>\n",
       "      <td>NaN</td>\n",
       "      <td>Århus</td>\n",
       "      <td>Denmark</td>\n",
       "      <td>57.05N</td>\n",
       "      <td>10.33E</td>\n",
       "    </tr>\n",
       "  </tbody>\n",
       "</table>\n",
       "</div>"
      ],
      "text/plain": [
       "          dt  AverageTemperature  AverageTemperatureUncertainty   City  \\\n",
       "0 1743-11-01               6.068                          1.737  Århus   \n",
       "1 1743-12-01                 NaN                            NaN  Århus   \n",
       "2 1744-01-01                 NaN                            NaN  Århus   \n",
       "3 1744-02-01                 NaN                            NaN  Århus   \n",
       "4 1744-03-01                 NaN                            NaN  Århus   \n",
       "\n",
       "   Country Latitude Longitude  \n",
       "0  Denmark   57.05N    10.33E  \n",
       "1  Denmark   57.05N    10.33E  \n",
       "2  Denmark   57.05N    10.33E  \n",
       "3  Denmark   57.05N    10.33E  \n",
       "4  Denmark   57.05N    10.33E  "
      ]
     },
     "execution_count": 10,
     "metadata": {},
     "output_type": "execute_result"
    }
   ],
   "source": [
    "global_temp_df.limit(5).toPandas()"
   ]
  },
  {
   "cell_type": "code",
   "execution_count": 11,
   "metadata": {
    "editable": true
   },
   "outputs": [
    {
     "data": {
      "text/html": [
       "<div>\n",
       "<style scoped>\n",
       "    .dataframe tbody tr th:only-of-type {\n",
       "        vertical-align: middle;\n",
       "    }\n",
       "\n",
       "    .dataframe tbody tr th {\n",
       "        vertical-align: top;\n",
       "    }\n",
       "\n",
       "    .dataframe thead th {\n",
       "        text-align: right;\n",
       "    }\n",
       "</style>\n",
       "<table border=\"1\" class=\"dataframe\">\n",
       "  <thead>\n",
       "    <tr style=\"text-align: right;\">\n",
       "      <th></th>\n",
       "      <th>Country</th>\n",
       "    </tr>\n",
       "  </thead>\n",
       "  <tbody>\n",
       "    <tr>\n",
       "      <th>0</th>\n",
       "      <td>Afghanistan</td>\n",
       "    </tr>\n",
       "    <tr>\n",
       "      <th>1</th>\n",
       "      <td>Albania</td>\n",
       "    </tr>\n",
       "    <tr>\n",
       "      <th>2</th>\n",
       "      <td>Algeria</td>\n",
       "    </tr>\n",
       "    <tr>\n",
       "      <th>3</th>\n",
       "      <td>Angola</td>\n",
       "    </tr>\n",
       "    <tr>\n",
       "      <th>4</th>\n",
       "      <td>Argentina</td>\n",
       "    </tr>\n",
       "    <tr>\n",
       "      <th>5</th>\n",
       "      <td>Armenia</td>\n",
       "    </tr>\n",
       "    <tr>\n",
       "      <th>6</th>\n",
       "      <td>Australia</td>\n",
       "    </tr>\n",
       "    <tr>\n",
       "      <th>7</th>\n",
       "      <td>Austria</td>\n",
       "    </tr>\n",
       "    <tr>\n",
       "      <th>8</th>\n",
       "      <td>Azerbaijan</td>\n",
       "    </tr>\n",
       "    <tr>\n",
       "      <th>9</th>\n",
       "      <td>Bahamas</td>\n",
       "    </tr>\n",
       "    <tr>\n",
       "      <th>10</th>\n",
       "      <td>Bahrain</td>\n",
       "    </tr>\n",
       "    <tr>\n",
       "      <th>11</th>\n",
       "      <td>Bangladesh</td>\n",
       "    </tr>\n",
       "    <tr>\n",
       "      <th>12</th>\n",
       "      <td>Belarus</td>\n",
       "    </tr>\n",
       "    <tr>\n",
       "      <th>13</th>\n",
       "      <td>Belgium</td>\n",
       "    </tr>\n",
       "    <tr>\n",
       "      <th>14</th>\n",
       "      <td>Benin</td>\n",
       "    </tr>\n",
       "    <tr>\n",
       "      <th>15</th>\n",
       "      <td>Bolivia</td>\n",
       "    </tr>\n",
       "    <tr>\n",
       "      <th>16</th>\n",
       "      <td>Bosnia And Herzegovina</td>\n",
       "    </tr>\n",
       "    <tr>\n",
       "      <th>17</th>\n",
       "      <td>Botswana</td>\n",
       "    </tr>\n",
       "    <tr>\n",
       "      <th>18</th>\n",
       "      <td>Brazil</td>\n",
       "    </tr>\n",
       "    <tr>\n",
       "      <th>19</th>\n",
       "      <td>Bulgaria</td>\n",
       "    </tr>\n",
       "  </tbody>\n",
       "</table>\n",
       "</div>"
      ],
      "text/plain": [
       "                   Country\n",
       "0              Afghanistan\n",
       "1                  Albania\n",
       "2                  Algeria\n",
       "3                   Angola\n",
       "4                Argentina\n",
       "5                  Armenia\n",
       "6                Australia\n",
       "7                  Austria\n",
       "8               Azerbaijan\n",
       "9                  Bahamas\n",
       "10                 Bahrain\n",
       "11              Bangladesh\n",
       "12                 Belarus\n",
       "13                 Belgium\n",
       "14                   Benin\n",
       "15                 Bolivia\n",
       "16  Bosnia And Herzegovina\n",
       "17                Botswana\n",
       "18                  Brazil\n",
       "19                Bulgaria"
      ]
     },
     "execution_count": 11,
     "metadata": {},
     "output_type": "execute_result"
    }
   ],
   "source": [
    "global_temp_df.select(\"Country\").dropDuplicates().sort(\"Country\").limit(20).toPandas()"
   ]
  },
  {
   "cell_type": "code",
   "execution_count": 12,
   "metadata": {
    "editable": true
   },
   "outputs": [],
   "source": [
    "# global_temp_df.filter(global_temp_df[\"Country\"] == 'United States').sort(\"dt\").limit(5).toPandas()"
   ]
  },
  {
   "cell_type": "markdown",
   "metadata": {
    "editable": true
   },
   "source": [
    "### Explore US Cities data"
   ]
  },
  {
   "cell_type": "code",
   "execution_count": 13,
   "metadata": {
    "editable": true
   },
   "outputs": [
    {
     "data": {
      "text/html": [
       "<div>\n",
       "<style scoped>\n",
       "    .dataframe tbody tr th:only-of-type {\n",
       "        vertical-align: middle;\n",
       "    }\n",
       "\n",
       "    .dataframe tbody tr th {\n",
       "        vertical-align: top;\n",
       "    }\n",
       "\n",
       "    .dataframe thead th {\n",
       "        text-align: right;\n",
       "    }\n",
       "</style>\n",
       "<table border=\"1\" class=\"dataframe\">\n",
       "  <thead>\n",
       "    <tr style=\"text-align: right;\">\n",
       "      <th></th>\n",
       "      <th>City</th>\n",
       "      <th>State</th>\n",
       "      <th>Median Age</th>\n",
       "      <th>Male Population</th>\n",
       "      <th>Female Population</th>\n",
       "      <th>Total Population</th>\n",
       "      <th>Number of Veterans</th>\n",
       "      <th>Foreign-born</th>\n",
       "      <th>Average Household Size</th>\n",
       "      <th>State Code</th>\n",
       "      <th>Race</th>\n",
       "      <th>Count</th>\n",
       "    </tr>\n",
       "  </thead>\n",
       "  <tbody>\n",
       "    <tr>\n",
       "      <th>0</th>\n",
       "      <td>Alameda</td>\n",
       "      <td>California</td>\n",
       "      <td>41.4</td>\n",
       "      <td>37747</td>\n",
       "      <td>40867</td>\n",
       "      <td>78614</td>\n",
       "      <td>4504</td>\n",
       "      <td>18841</td>\n",
       "      <td>2.52</td>\n",
       "      <td>CA</td>\n",
       "      <td>White</td>\n",
       "      <td>44232</td>\n",
       "    </tr>\n",
       "    <tr>\n",
       "      <th>1</th>\n",
       "      <td>Alameda</td>\n",
       "      <td>California</td>\n",
       "      <td>41.4</td>\n",
       "      <td>37747</td>\n",
       "      <td>40867</td>\n",
       "      <td>78614</td>\n",
       "      <td>4504</td>\n",
       "      <td>18841</td>\n",
       "      <td>2.52</td>\n",
       "      <td>CA</td>\n",
       "      <td>American Indian and Alaska Native</td>\n",
       "      <td>1329</td>\n",
       "    </tr>\n",
       "    <tr>\n",
       "      <th>2</th>\n",
       "      <td>Alameda</td>\n",
       "      <td>California</td>\n",
       "      <td>41.4</td>\n",
       "      <td>37747</td>\n",
       "      <td>40867</td>\n",
       "      <td>78614</td>\n",
       "      <td>4504</td>\n",
       "      <td>18841</td>\n",
       "      <td>2.52</td>\n",
       "      <td>CA</td>\n",
       "      <td>Black or African-American</td>\n",
       "      <td>7364</td>\n",
       "    </tr>\n",
       "    <tr>\n",
       "      <th>3</th>\n",
       "      <td>Alameda</td>\n",
       "      <td>California</td>\n",
       "      <td>41.4</td>\n",
       "      <td>37747</td>\n",
       "      <td>40867</td>\n",
       "      <td>78614</td>\n",
       "      <td>4504</td>\n",
       "      <td>18841</td>\n",
       "      <td>2.52</td>\n",
       "      <td>CA</td>\n",
       "      <td>Hispanic or Latino</td>\n",
       "      <td>8265</td>\n",
       "    </tr>\n",
       "    <tr>\n",
       "      <th>4</th>\n",
       "      <td>Alameda</td>\n",
       "      <td>California</td>\n",
       "      <td>41.4</td>\n",
       "      <td>37747</td>\n",
       "      <td>40867</td>\n",
       "      <td>78614</td>\n",
       "      <td>4504</td>\n",
       "      <td>18841</td>\n",
       "      <td>2.52</td>\n",
       "      <td>CA</td>\n",
       "      <td>Asian</td>\n",
       "      <td>27984</td>\n",
       "    </tr>\n",
       "    <tr>\n",
       "      <th>5</th>\n",
       "      <td>Alhambra</td>\n",
       "      <td>California</td>\n",
       "      <td>41.0</td>\n",
       "      <td>42184</td>\n",
       "      <td>43388</td>\n",
       "      <td>85572</td>\n",
       "      <td>1673</td>\n",
       "      <td>44441</td>\n",
       "      <td>2.89</td>\n",
       "      <td>CA</td>\n",
       "      <td>Asian</td>\n",
       "      <td>44067</td>\n",
       "    </tr>\n",
       "    <tr>\n",
       "      <th>6</th>\n",
       "      <td>Alhambra</td>\n",
       "      <td>California</td>\n",
       "      <td>41.0</td>\n",
       "      <td>42184</td>\n",
       "      <td>43388</td>\n",
       "      <td>85572</td>\n",
       "      <td>1673</td>\n",
       "      <td>44441</td>\n",
       "      <td>2.89</td>\n",
       "      <td>CA</td>\n",
       "      <td>American Indian and Alaska Native</td>\n",
       "      <td>687</td>\n",
       "    </tr>\n",
       "    <tr>\n",
       "      <th>7</th>\n",
       "      <td>Alhambra</td>\n",
       "      <td>California</td>\n",
       "      <td>41.0</td>\n",
       "      <td>42184</td>\n",
       "      <td>43388</td>\n",
       "      <td>85572</td>\n",
       "      <td>1673</td>\n",
       "      <td>44441</td>\n",
       "      <td>2.89</td>\n",
       "      <td>CA</td>\n",
       "      <td>White</td>\n",
       "      <td>20811</td>\n",
       "    </tr>\n",
       "    <tr>\n",
       "      <th>8</th>\n",
       "      <td>Alhambra</td>\n",
       "      <td>California</td>\n",
       "      <td>41.0</td>\n",
       "      <td>42184</td>\n",
       "      <td>43388</td>\n",
       "      <td>85572</td>\n",
       "      <td>1673</td>\n",
       "      <td>44441</td>\n",
       "      <td>2.89</td>\n",
       "      <td>CA</td>\n",
       "      <td>Hispanic or Latino</td>\n",
       "      <td>31386</td>\n",
       "    </tr>\n",
       "    <tr>\n",
       "      <th>9</th>\n",
       "      <td>Alhambra</td>\n",
       "      <td>California</td>\n",
       "      <td>41.0</td>\n",
       "      <td>42184</td>\n",
       "      <td>43388</td>\n",
       "      <td>85572</td>\n",
       "      <td>1673</td>\n",
       "      <td>44441</td>\n",
       "      <td>2.89</td>\n",
       "      <td>CA</td>\n",
       "      <td>Black or African-American</td>\n",
       "      <td>1905</td>\n",
       "    </tr>\n",
       "  </tbody>\n",
       "</table>\n",
       "</div>"
      ],
      "text/plain": [
       "       City       State  Median Age  Male Population  Female Population  \\\n",
       "0   Alameda  California        41.4            37747              40867   \n",
       "1   Alameda  California        41.4            37747              40867   \n",
       "2   Alameda  California        41.4            37747              40867   \n",
       "3   Alameda  California        41.4            37747              40867   \n",
       "4   Alameda  California        41.4            37747              40867   \n",
       "5  Alhambra  California        41.0            42184              43388   \n",
       "6  Alhambra  California        41.0            42184              43388   \n",
       "7  Alhambra  California        41.0            42184              43388   \n",
       "8  Alhambra  California        41.0            42184              43388   \n",
       "9  Alhambra  California        41.0            42184              43388   \n",
       "\n",
       "   Total Population  Number of Veterans  Foreign-born  Average Household Size  \\\n",
       "0             78614                4504         18841                    2.52   \n",
       "1             78614                4504         18841                    2.52   \n",
       "2             78614                4504         18841                    2.52   \n",
       "3             78614                4504         18841                    2.52   \n",
       "4             78614                4504         18841                    2.52   \n",
       "5             85572                1673         44441                    2.89   \n",
       "6             85572                1673         44441                    2.89   \n",
       "7             85572                1673         44441                    2.89   \n",
       "8             85572                1673         44441                    2.89   \n",
       "9             85572                1673         44441                    2.89   \n",
       "\n",
       "  State Code                               Race  Count  \n",
       "0         CA                              White  44232  \n",
       "1         CA  American Indian and Alaska Native   1329  \n",
       "2         CA          Black or African-American   7364  \n",
       "3         CA                 Hispanic or Latino   8265  \n",
       "4         CA                              Asian  27984  \n",
       "5         CA                              Asian  44067  \n",
       "6         CA  American Indian and Alaska Native    687  \n",
       "7         CA                              White  20811  \n",
       "8         CA                 Hispanic or Latino  31386  \n",
       "9         CA          Black or African-American   1905  "
      ]
     },
     "execution_count": 13,
     "metadata": {},
     "output_type": "execute_result"
    }
   ],
   "source": [
    "us_cities_df.filter(us_cities_df[\"State\"] == 'California').sort(\"City\").limit(10).toPandas()"
   ]
  },
  {
   "cell_type": "markdown",
   "metadata": {
    "editable": true
   },
   "source": [
    "### Explore Airport Code data"
   ]
  },
  {
   "cell_type": "code",
   "execution_count": 14,
   "metadata": {
    "editable": true
   },
   "outputs": [
    {
     "data": {
      "text/html": [
       "<div>\n",
       "<style scoped>\n",
       "    .dataframe tbody tr th:only-of-type {\n",
       "        vertical-align: middle;\n",
       "    }\n",
       "\n",
       "    .dataframe tbody tr th {\n",
       "        vertical-align: top;\n",
       "    }\n",
       "\n",
       "    .dataframe thead th {\n",
       "        text-align: right;\n",
       "    }\n",
       "</style>\n",
       "<table border=\"1\" class=\"dataframe\">\n",
       "  <thead>\n",
       "    <tr style=\"text-align: right;\">\n",
       "      <th></th>\n",
       "      <th>ident</th>\n",
       "      <th>type</th>\n",
       "      <th>name</th>\n",
       "      <th>elevation_ft</th>\n",
       "      <th>continent</th>\n",
       "      <th>iso_country</th>\n",
       "      <th>iso_region</th>\n",
       "      <th>municipality</th>\n",
       "      <th>gps_code</th>\n",
       "      <th>iata_code</th>\n",
       "      <th>local_code</th>\n",
       "      <th>coordinates</th>\n",
       "    </tr>\n",
       "  </thead>\n",
       "  <tbody>\n",
       "    <tr>\n",
       "      <th>0</th>\n",
       "      <td>00A</td>\n",
       "      <td>heliport</td>\n",
       "      <td>Total Rf Heliport</td>\n",
       "      <td>11</td>\n",
       "      <td>NA</td>\n",
       "      <td>US</td>\n",
       "      <td>US-PA</td>\n",
       "      <td>Bensalem</td>\n",
       "      <td>00A</td>\n",
       "      <td>None</td>\n",
       "      <td>00A</td>\n",
       "      <td>-74.93360137939453, 40.07080078125</td>\n",
       "    </tr>\n",
       "    <tr>\n",
       "      <th>1</th>\n",
       "      <td>00AA</td>\n",
       "      <td>small_airport</td>\n",
       "      <td>Aero B Ranch Airport</td>\n",
       "      <td>3435</td>\n",
       "      <td>NA</td>\n",
       "      <td>US</td>\n",
       "      <td>US-KS</td>\n",
       "      <td>Leoti</td>\n",
       "      <td>00AA</td>\n",
       "      <td>None</td>\n",
       "      <td>00AA</td>\n",
       "      <td>-101.473911, 38.704022</td>\n",
       "    </tr>\n",
       "    <tr>\n",
       "      <th>2</th>\n",
       "      <td>00AK</td>\n",
       "      <td>small_airport</td>\n",
       "      <td>Lowell Field</td>\n",
       "      <td>450</td>\n",
       "      <td>NA</td>\n",
       "      <td>US</td>\n",
       "      <td>US-AK</td>\n",
       "      <td>Anchor Point</td>\n",
       "      <td>00AK</td>\n",
       "      <td>None</td>\n",
       "      <td>00AK</td>\n",
       "      <td>-151.695999146, 59.94919968</td>\n",
       "    </tr>\n",
       "    <tr>\n",
       "      <th>3</th>\n",
       "      <td>00AL</td>\n",
       "      <td>small_airport</td>\n",
       "      <td>Epps Airpark</td>\n",
       "      <td>820</td>\n",
       "      <td>NA</td>\n",
       "      <td>US</td>\n",
       "      <td>US-AL</td>\n",
       "      <td>Harvest</td>\n",
       "      <td>00AL</td>\n",
       "      <td>None</td>\n",
       "      <td>00AL</td>\n",
       "      <td>-86.77030181884766, 34.86479949951172</td>\n",
       "    </tr>\n",
       "    <tr>\n",
       "      <th>4</th>\n",
       "      <td>00AR</td>\n",
       "      <td>closed</td>\n",
       "      <td>Newport Hospital &amp; Clinic Heliport</td>\n",
       "      <td>237</td>\n",
       "      <td>NA</td>\n",
       "      <td>US</td>\n",
       "      <td>US-AR</td>\n",
       "      <td>Newport</td>\n",
       "      <td>None</td>\n",
       "      <td>None</td>\n",
       "      <td>None</td>\n",
       "      <td>-91.254898, 35.6087</td>\n",
       "    </tr>\n",
       "  </tbody>\n",
       "</table>\n",
       "</div>"
      ],
      "text/plain": [
       "  ident           type                                name  elevation_ft  \\\n",
       "0   00A       heliport                   Total Rf Heliport            11   \n",
       "1  00AA  small_airport                Aero B Ranch Airport          3435   \n",
       "2  00AK  small_airport                        Lowell Field           450   \n",
       "3  00AL  small_airport                        Epps Airpark           820   \n",
       "4  00AR         closed  Newport Hospital & Clinic Heliport           237   \n",
       "\n",
       "  continent iso_country iso_region  municipality gps_code iata_code  \\\n",
       "0        NA          US      US-PA      Bensalem      00A      None   \n",
       "1        NA          US      US-KS         Leoti     00AA      None   \n",
       "2        NA          US      US-AK  Anchor Point     00AK      None   \n",
       "3        NA          US      US-AL       Harvest     00AL      None   \n",
       "4        NA          US      US-AR       Newport     None      None   \n",
       "\n",
       "  local_code                            coordinates  \n",
       "0        00A     -74.93360137939453, 40.07080078125  \n",
       "1       00AA                 -101.473911, 38.704022  \n",
       "2       00AK            -151.695999146, 59.94919968  \n",
       "3       00AL  -86.77030181884766, 34.86479949951172  \n",
       "4       None                    -91.254898, 35.6087  "
      ]
     },
     "execution_count": 14,
     "metadata": {},
     "output_type": "execute_result"
    }
   ],
   "source": [
    "airport_code_df.filter(airport_code_df[\"iso_country\"] == 'US').limit(5).toPandas()"
   ]
  },
  {
   "cell_type": "markdown",
   "metadata": {
    "editable": true
   },
   "source": [
    "## Cleaning Steps\n",
    "Document steps necessary to clean the data"
   ]
  },
  {
   "cell_type": "markdown",
   "metadata": {
    "editable": true
   },
   "source": [
    "### Clean the SAS data"
   ]
  },
  {
   "cell_type": "code",
   "execution_count": 15,
   "metadata": {
    "editable": true
   },
   "outputs": [
    {
     "name": "stdout",
     "output_type": "stream",
     "text": [
      "root\n",
      " |-- admnum: string (nullable = true)\n",
      " |-- cicid: string (nullable = true)\n",
      " |-- insnum: string (nullable = true)\n",
      " |-- i94bir: integer (nullable = true)\n",
      " |-- biryear: integer (nullable = true)\n",
      " |-- gender: string (nullable = true)\n",
      " |-- airline: string (nullable = true)\n",
      " |-- fltno: string (nullable = true)\n",
      " |-- visatype: string (nullable = true)\n",
      " |-- arrdate: integer (nullable = true)\n",
      " |-- depdate: integer (nullable = true)\n",
      " |-- i94yr: integer (nullable = true)\n",
      " |-- i94mon: integer (nullable = true)\n",
      " |-- i94cit: integer (nullable = true)\n",
      " |-- i94res: integer (nullable = true)\n",
      " |-- i94port: string (nullable = true)\n",
      " |-- i94mode: integer (nullable = true)\n",
      " |-- i94addr: string (nullable = true)\n",
      " |-- i94visa: string (nullable = true)\n",
      "\n"
     ]
    },
    {
     "data": {
      "text/html": [
       "<div>\n",
       "<style scoped>\n",
       "    .dataframe tbody tr th:only-of-type {\n",
       "        vertical-align: middle;\n",
       "    }\n",
       "\n",
       "    .dataframe tbody tr th {\n",
       "        vertical-align: top;\n",
       "    }\n",
       "\n",
       "    .dataframe thead th {\n",
       "        text-align: right;\n",
       "    }\n",
       "</style>\n",
       "<table border=\"1\" class=\"dataframe\">\n",
       "  <thead>\n",
       "    <tr style=\"text-align: right;\">\n",
       "      <th></th>\n",
       "      <th>admnum</th>\n",
       "      <th>cicid</th>\n",
       "      <th>insnum</th>\n",
       "      <th>i94bir</th>\n",
       "      <th>biryear</th>\n",
       "      <th>gender</th>\n",
       "      <th>airline</th>\n",
       "      <th>fltno</th>\n",
       "      <th>visatype</th>\n",
       "      <th>arrdate</th>\n",
       "      <th>depdate</th>\n",
       "      <th>i94yr</th>\n",
       "      <th>i94mon</th>\n",
       "      <th>i94cit</th>\n",
       "      <th>i94res</th>\n",
       "      <th>i94port</th>\n",
       "      <th>i94mode</th>\n",
       "      <th>i94addr</th>\n",
       "      <th>i94visa</th>\n",
       "    </tr>\n",
       "  </thead>\n",
       "  <tbody>\n",
       "    <tr>\n",
       "      <th>0</th>\n",
       "      <td>1897628485</td>\n",
       "      <td>6</td>\n",
       "      <td>None</td>\n",
       "      <td>37</td>\n",
       "      <td>1979</td>\n",
       "      <td>None</td>\n",
       "      <td>None</td>\n",
       "      <td>None</td>\n",
       "      <td>B2</td>\n",
       "      <td>20573</td>\n",
       "      <td>NaN</td>\n",
       "      <td>2016</td>\n",
       "      <td>4</td>\n",
       "      <td>692</td>\n",
       "      <td>692</td>\n",
       "      <td>XXX</td>\n",
       "      <td>NaN</td>\n",
       "      <td>None</td>\n",
       "      <td>2</td>\n",
       "    </tr>\n",
       "    <tr>\n",
       "      <th>1</th>\n",
       "      <td>2147483647</td>\n",
       "      <td>7</td>\n",
       "      <td>None</td>\n",
       "      <td>25</td>\n",
       "      <td>1991</td>\n",
       "      <td>M</td>\n",
       "      <td>None</td>\n",
       "      <td>00296</td>\n",
       "      <td>F1</td>\n",
       "      <td>20551</td>\n",
       "      <td>NaN</td>\n",
       "      <td>2016</td>\n",
       "      <td>4</td>\n",
       "      <td>254</td>\n",
       "      <td>276</td>\n",
       "      <td>ATL</td>\n",
       "      <td>1.0</td>\n",
       "      <td>AL</td>\n",
       "      <td>3</td>\n",
       "    </tr>\n",
       "    <tr>\n",
       "      <th>2</th>\n",
       "      <td>666643185</td>\n",
       "      <td>15</td>\n",
       "      <td>None</td>\n",
       "      <td>55</td>\n",
       "      <td>1961</td>\n",
       "      <td>M</td>\n",
       "      <td>OS</td>\n",
       "      <td>93</td>\n",
       "      <td>B2</td>\n",
       "      <td>20545</td>\n",
       "      <td>20691.0</td>\n",
       "      <td>2016</td>\n",
       "      <td>4</td>\n",
       "      <td>101</td>\n",
       "      <td>101</td>\n",
       "      <td>WAS</td>\n",
       "      <td>1.0</td>\n",
       "      <td>MI</td>\n",
       "      <td>2</td>\n",
       "    </tr>\n",
       "    <tr>\n",
       "      <th>3</th>\n",
       "      <td>2147483647</td>\n",
       "      <td>16</td>\n",
       "      <td>None</td>\n",
       "      <td>28</td>\n",
       "      <td>1988</td>\n",
       "      <td>None</td>\n",
       "      <td>AA</td>\n",
       "      <td>00199</td>\n",
       "      <td>B2</td>\n",
       "      <td>20545</td>\n",
       "      <td>20567.0</td>\n",
       "      <td>2016</td>\n",
       "      <td>4</td>\n",
       "      <td>101</td>\n",
       "      <td>101</td>\n",
       "      <td>NYC</td>\n",
       "      <td>1.0</td>\n",
       "      <td>MA</td>\n",
       "      <td>2</td>\n",
       "    </tr>\n",
       "    <tr>\n",
       "      <th>4</th>\n",
       "      <td>2147483647</td>\n",
       "      <td>17</td>\n",
       "      <td>None</td>\n",
       "      <td>4</td>\n",
       "      <td>2012</td>\n",
       "      <td>None</td>\n",
       "      <td>AA</td>\n",
       "      <td>00199</td>\n",
       "      <td>B2</td>\n",
       "      <td>20545</td>\n",
       "      <td>20567.0</td>\n",
       "      <td>2016</td>\n",
       "      <td>4</td>\n",
       "      <td>101</td>\n",
       "      <td>101</td>\n",
       "      <td>NYC</td>\n",
       "      <td>1.0</td>\n",
       "      <td>MA</td>\n",
       "      <td>2</td>\n",
       "    </tr>\n",
       "    <tr>\n",
       "      <th>5</th>\n",
       "      <td>2147483647</td>\n",
       "      <td>18</td>\n",
       "      <td>None</td>\n",
       "      <td>57</td>\n",
       "      <td>1959</td>\n",
       "      <td>None</td>\n",
       "      <td>AZ</td>\n",
       "      <td>00602</td>\n",
       "      <td>B1</td>\n",
       "      <td>20545</td>\n",
       "      <td>20555.0</td>\n",
       "      <td>2016</td>\n",
       "      <td>4</td>\n",
       "      <td>101</td>\n",
       "      <td>101</td>\n",
       "      <td>NYC</td>\n",
       "      <td>1.0</td>\n",
       "      <td>MI</td>\n",
       "      <td>1</td>\n",
       "    </tr>\n",
       "    <tr>\n",
       "      <th>6</th>\n",
       "      <td>2147483647</td>\n",
       "      <td>19</td>\n",
       "      <td>None</td>\n",
       "      <td>63</td>\n",
       "      <td>1953</td>\n",
       "      <td>None</td>\n",
       "      <td>AZ</td>\n",
       "      <td>00602</td>\n",
       "      <td>B2</td>\n",
       "      <td>20545</td>\n",
       "      <td>20558.0</td>\n",
       "      <td>2016</td>\n",
       "      <td>4</td>\n",
       "      <td>101</td>\n",
       "      <td>101</td>\n",
       "      <td>NYC</td>\n",
       "      <td>1.0</td>\n",
       "      <td>NJ</td>\n",
       "      <td>2</td>\n",
       "    </tr>\n",
       "    <tr>\n",
       "      <th>7</th>\n",
       "      <td>2147483647</td>\n",
       "      <td>20</td>\n",
       "      <td>None</td>\n",
       "      <td>57</td>\n",
       "      <td>1959</td>\n",
       "      <td>None</td>\n",
       "      <td>AZ</td>\n",
       "      <td>00602</td>\n",
       "      <td>B2</td>\n",
       "      <td>20545</td>\n",
       "      <td>20558.0</td>\n",
       "      <td>2016</td>\n",
       "      <td>4</td>\n",
       "      <td>101</td>\n",
       "      <td>101</td>\n",
       "      <td>NYC</td>\n",
       "      <td>1.0</td>\n",
       "      <td>NJ</td>\n",
       "      <td>2</td>\n",
       "    </tr>\n",
       "    <tr>\n",
       "      <th>8</th>\n",
       "      <td>2147483647</td>\n",
       "      <td>21</td>\n",
       "      <td>None</td>\n",
       "      <td>46</td>\n",
       "      <td>1970</td>\n",
       "      <td>None</td>\n",
       "      <td>AZ</td>\n",
       "      <td>00602</td>\n",
       "      <td>B2</td>\n",
       "      <td>20545</td>\n",
       "      <td>20553.0</td>\n",
       "      <td>2016</td>\n",
       "      <td>4</td>\n",
       "      <td>101</td>\n",
       "      <td>101</td>\n",
       "      <td>NYC</td>\n",
       "      <td>1.0</td>\n",
       "      <td>NY</td>\n",
       "      <td>2</td>\n",
       "    </tr>\n",
       "    <tr>\n",
       "      <th>9</th>\n",
       "      <td>2147483647</td>\n",
       "      <td>22</td>\n",
       "      <td>None</td>\n",
       "      <td>48</td>\n",
       "      <td>1968</td>\n",
       "      <td>None</td>\n",
       "      <td>AZ</td>\n",
       "      <td>00608</td>\n",
       "      <td>B1</td>\n",
       "      <td>20545</td>\n",
       "      <td>20562.0</td>\n",
       "      <td>2016</td>\n",
       "      <td>4</td>\n",
       "      <td>101</td>\n",
       "      <td>101</td>\n",
       "      <td>NYC</td>\n",
       "      <td>1.0</td>\n",
       "      <td>NY</td>\n",
       "      <td>1</td>\n",
       "    </tr>\n",
       "  </tbody>\n",
       "</table>\n",
       "</div>"
      ],
      "text/plain": [
       "       admnum cicid insnum  i94bir  biryear gender airline  fltno visatype  \\\n",
       "0  1897628485     6   None      37     1979   None    None   None       B2   \n",
       "1  2147483647     7   None      25     1991      M    None  00296       F1   \n",
       "2   666643185    15   None      55     1961      M      OS     93       B2   \n",
       "3  2147483647    16   None      28     1988   None      AA  00199       B2   \n",
       "4  2147483647    17   None       4     2012   None      AA  00199       B2   \n",
       "5  2147483647    18   None      57     1959   None      AZ  00602       B1   \n",
       "6  2147483647    19   None      63     1953   None      AZ  00602       B2   \n",
       "7  2147483647    20   None      57     1959   None      AZ  00602       B2   \n",
       "8  2147483647    21   None      46     1970   None      AZ  00602       B2   \n",
       "9  2147483647    22   None      48     1968   None      AZ  00608       B1   \n",
       "\n",
       "   arrdate  depdate  i94yr  i94mon  i94cit  i94res i94port  i94mode i94addr  \\\n",
       "0    20573      NaN   2016       4     692     692     XXX      NaN    None   \n",
       "1    20551      NaN   2016       4     254     276     ATL      1.0      AL   \n",
       "2    20545  20691.0   2016       4     101     101     WAS      1.0      MI   \n",
       "3    20545  20567.0   2016       4     101     101     NYC      1.0      MA   \n",
       "4    20545  20567.0   2016       4     101     101     NYC      1.0      MA   \n",
       "5    20545  20555.0   2016       4     101     101     NYC      1.0      MI   \n",
       "6    20545  20558.0   2016       4     101     101     NYC      1.0      NJ   \n",
       "7    20545  20558.0   2016       4     101     101     NYC      1.0      NJ   \n",
       "8    20545  20553.0   2016       4     101     101     NYC      1.0      NY   \n",
       "9    20545  20562.0   2016       4     101     101     NYC      1.0      NY   \n",
       "\n",
       "  i94visa  \n",
       "0       2  \n",
       "1       3  \n",
       "2       2  \n",
       "3       2  \n",
       "4       2  \n",
       "5       1  \n",
       "6       2  \n",
       "7       2  \n",
       "8       2  \n",
       "9       1  "
      ]
     },
     "execution_count": 15,
     "metadata": {},
     "output_type": "execute_result"
    }
   ],
   "source": [
    "from pyspark.sql.types import StructType, StructField, StringType, IntegerType\n",
    "\n",
    "sas_cleaned_df = sas_df.select(\n",
    "    sas_df.admnum.cast(IntegerType()).cast(StringType()),\n",
    "    sas_df.cicid.cast(IntegerType()).cast(StringType()),\n",
    "    sas_df.insnum.cast(IntegerType()).cast(StringType()),\n",
    "    sas_df.i94bir.cast(IntegerType()),\n",
    "    sas_df.biryear.cast(IntegerType()),\n",
    "    sas_df.gender,\n",
    "    sas_df.airline,\n",
    "    sas_df.fltno,\n",
    "    sas_df.visatype,\n",
    "    sas_df.arrdate.cast(IntegerType()),\n",
    "    sas_df.depdate.cast(IntegerType()),\n",
    "    sas_df.i94yr.cast(IntegerType()),\n",
    "    sas_df.i94mon.cast(IntegerType()),\n",
    "    sas_df.i94cit.cast(IntegerType()),\n",
    "    sas_df.i94res.cast(IntegerType()),\n",
    "    sas_df.i94port,\n",
    "    sas_df.i94mode.cast(IntegerType()),\n",
    "    sas_df.i94addr,\n",
    "    sas_df.i94visa.cast(IntegerType()).cast(StringType()),\n",
    ")\n",
    "\n",
    "sas_cleaned_df.printSchema()\n",
    "sas_cleaned_df.limit(10).toPandas()"
   ]
  },
  {
   "cell_type": "markdown",
   "metadata": {
    "editable": true
   },
   "source": [
    "### Create 5 new datasets based on `I94_SAS_Labels_Descriptions.SAS`\n",
    "\n",
    "- I94 SAS dataset has a number of labels must be defined in `I94_SAS_Labels_Descriptions.SAS`, thus it must be run before in SAS system to define the lables for the dataset.\n",
    "\n",
    "- However, we cannot do that in our code, thus we have to create some datasets based on the label description to match it with the data we extracted."
   ]
  },
  {
   "cell_type": "markdown",
   "metadata": {
    "editable": true
   },
   "source": [
    "#### 1. Create dataset for I94 countries"
   ]
  },
  {
   "cell_type": "code",
   "execution_count": 16,
   "metadata": {
    "editable": true
   },
   "outputs": [
    {
     "name": "stdout",
     "output_type": "stream",
     "text": [
      "root\n",
      " |-- code: integer (nullable = true)\n",
      " |-- country: string (nullable = true)\n",
      "\n"
     ]
    },
    {
     "data": {
      "text/html": [
       "<div>\n",
       "<style scoped>\n",
       "    .dataframe tbody tr th:only-of-type {\n",
       "        vertical-align: middle;\n",
       "    }\n",
       "\n",
       "    .dataframe tbody tr th {\n",
       "        vertical-align: top;\n",
       "    }\n",
       "\n",
       "    .dataframe thead th {\n",
       "        text-align: right;\n",
       "    }\n",
       "</style>\n",
       "<table border=\"1\" class=\"dataframe\">\n",
       "  <thead>\n",
       "    <tr style=\"text-align: right;\">\n",
       "      <th></th>\n",
       "      <th>code</th>\n",
       "      <th>country</th>\n",
       "    </tr>\n",
       "  </thead>\n",
       "  <tbody>\n",
       "    <tr>\n",
       "      <th>0</th>\n",
       "      <td>582</td>\n",
       "      <td>MEXICO Air Sea, and Not Reported (I-94, no l...</td>\n",
       "    </tr>\n",
       "    <tr>\n",
       "      <th>1</th>\n",
       "      <td>236</td>\n",
       "      <td>AFGHANISTAN</td>\n",
       "    </tr>\n",
       "    <tr>\n",
       "      <th>2</th>\n",
       "      <td>101</td>\n",
       "      <td>ALBANIA</td>\n",
       "    </tr>\n",
       "    <tr>\n",
       "      <th>3</th>\n",
       "      <td>316</td>\n",
       "      <td>ALGERIA</td>\n",
       "    </tr>\n",
       "    <tr>\n",
       "      <th>4</th>\n",
       "      <td>102</td>\n",
       "      <td>ANDORRA</td>\n",
       "    </tr>\n",
       "    <tr>\n",
       "      <th>5</th>\n",
       "      <td>324</td>\n",
       "      <td>ANGOLA</td>\n",
       "    </tr>\n",
       "    <tr>\n",
       "      <th>6</th>\n",
       "      <td>529</td>\n",
       "      <td>ANGUILLA</td>\n",
       "    </tr>\n",
       "    <tr>\n",
       "      <th>7</th>\n",
       "      <td>518</td>\n",
       "      <td>ANTIGUA-BARBUDA</td>\n",
       "    </tr>\n",
       "    <tr>\n",
       "      <th>8</th>\n",
       "      <td>687</td>\n",
       "      <td>ARGENTINA</td>\n",
       "    </tr>\n",
       "    <tr>\n",
       "      <th>9</th>\n",
       "      <td>151</td>\n",
       "      <td>ARMENIA</td>\n",
       "    </tr>\n",
       "  </tbody>\n",
       "</table>\n",
       "</div>"
      ],
      "text/plain": [
       "   code                                            country\n",
       "0   582    MEXICO Air Sea, and Not Reported (I-94, no l...\n",
       "1   236                                        AFGHANISTAN\n",
       "2   101                                            ALBANIA\n",
       "3   316                                            ALGERIA\n",
       "4   102                                            ANDORRA\n",
       "5   324                                             ANGOLA\n",
       "6   529                                           ANGUILLA\n",
       "7   518                                    ANTIGUA-BARBUDA\n",
       "8   687                                         ARGENTINA \n",
       "9   151                                            ARMENIA"
      ]
     },
     "execution_count": 16,
     "metadata": {},
     "output_type": "execute_result"
    }
   ],
   "source": [
    "i94_country_df = spark.read \\\n",
    "    .option(\"delimiter\", \";\") \\\n",
    "    .option(\"header\", True) \\\n",
    "    .option(\"inferSchema\", True) \\\n",
    "    .csv('label_i94cntyl.csv')\n",
    "\n",
    "i94_country_df = i94_country_df \\\n",
    "    .withColumn(\"country\", translate(\"country\", \"'\", \"\")) \\\n",
    "    .withColumn(\"code\", i94_country_df.code.cast(IntegerType()))\n",
    "\n",
    "i94_country_df.printSchema()\n",
    "i94_country_df.limit(10).toPandas()"
   ]
  },
  {
   "cell_type": "markdown",
   "metadata": {
    "editable": true
   },
   "source": [
    "#### 2. Create dataset for I94 ports"
   ]
  },
  {
   "cell_type": "code",
   "execution_count": 17,
   "metadata": {
    "editable": true
   },
   "outputs": [
    {
     "name": "stdout",
     "output_type": "stream",
     "text": [
      "root\n",
      " |-- code: string (nullable = true)\n",
      " |-- port: string (nullable = true)\n",
      "\n"
     ]
    },
    {
     "data": {
      "text/html": [
       "<div>\n",
       "<style scoped>\n",
       "    .dataframe tbody tr th:only-of-type {\n",
       "        vertical-align: middle;\n",
       "    }\n",
       "\n",
       "    .dataframe tbody tr th {\n",
       "        vertical-align: top;\n",
       "    }\n",
       "\n",
       "    .dataframe thead th {\n",
       "        text-align: right;\n",
       "    }\n",
       "</style>\n",
       "<table border=\"1\" class=\"dataframe\">\n",
       "  <thead>\n",
       "    <tr style=\"text-align: right;\">\n",
       "      <th></th>\n",
       "      <th>code</th>\n",
       "      <th>port</th>\n",
       "    </tr>\n",
       "  </thead>\n",
       "  <tbody>\n",
       "    <tr>\n",
       "      <th>0</th>\n",
       "      <td>ALC</td>\n",
       "      <td>ALCAN, AK</td>\n",
       "    </tr>\n",
       "    <tr>\n",
       "      <th>1</th>\n",
       "      <td>ANC</td>\n",
       "      <td>ANCHORAGE, AK</td>\n",
       "    </tr>\n",
       "    <tr>\n",
       "      <th>2</th>\n",
       "      <td>BAR</td>\n",
       "      <td>BAKER AAF - BAKER ISLAND, AK</td>\n",
       "    </tr>\n",
       "    <tr>\n",
       "      <th>3</th>\n",
       "      <td>DAC</td>\n",
       "      <td>DALTONS CACHE, AK</td>\n",
       "    </tr>\n",
       "    <tr>\n",
       "      <th>4</th>\n",
       "      <td>PIZ</td>\n",
       "      <td>DEW STATION PT LAY DEW, AK</td>\n",
       "    </tr>\n",
       "    <tr>\n",
       "      <th>5</th>\n",
       "      <td>DTH</td>\n",
       "      <td>DUTCH HARBOR, AK</td>\n",
       "    </tr>\n",
       "    <tr>\n",
       "      <th>6</th>\n",
       "      <td>EGL</td>\n",
       "      <td>EAGLE, AK</td>\n",
       "    </tr>\n",
       "    <tr>\n",
       "      <th>7</th>\n",
       "      <td>FRB</td>\n",
       "      <td>FAIRBANKS, AK</td>\n",
       "    </tr>\n",
       "    <tr>\n",
       "      <th>8</th>\n",
       "      <td>HOM</td>\n",
       "      <td>HOMER, AK</td>\n",
       "    </tr>\n",
       "    <tr>\n",
       "      <th>9</th>\n",
       "      <td>HYD</td>\n",
       "      <td>HYDER, AK</td>\n",
       "    </tr>\n",
       "  </tbody>\n",
       "</table>\n",
       "</div>"
      ],
      "text/plain": [
       "  code                          port\n",
       "0  ALC                     ALCAN, AK\n",
       "1  ANC                 ANCHORAGE, AK\n",
       "2  BAR  BAKER AAF - BAKER ISLAND, AK\n",
       "3  DAC             DALTONS CACHE, AK\n",
       "4  PIZ    DEW STATION PT LAY DEW, AK\n",
       "5  DTH              DUTCH HARBOR, AK\n",
       "6  EGL                     EAGLE, AK\n",
       "7  FRB                 FAIRBANKS, AK\n",
       "8  HOM                     HOMER, AK\n",
       "9  HYD                     HYDER, AK"
      ]
     },
     "execution_count": 17,
     "metadata": {},
     "output_type": "execute_result"
    }
   ],
   "source": [
    "i94_port_df = spark.read \\\n",
    "    .option(\"delimiter\", \";\") \\\n",
    "    .option(\"header\", True) \\\n",
    "    .option(\"inferSchema\", True) \\\n",
    "    .csv('label_i94prtl.csv')\n",
    "\n",
    "i94_port_df = i94_port_df \\\n",
    "    .withColumn(\"code\", translate(\"code\", \"\\t\", '')) \\\n",
    "    .withColumn(\"code\", translate(\"code\", \"'\", '')) \\\n",
    "    .withColumn(\"port\", translate(\"port\", \"\\t\", '')) \\\n",
    "    .withColumn(\"port\", translate(\"port\", \"'\", ''))\n",
    "\n",
    "i94_port_df = i94_port_df \\\n",
    "    .withColumn(\"code\", trim(i94_port_df.code)) \\\n",
    "    .withColumn(\"port\", trim(i94_port_df.port))\n",
    "\n",
    "i94_port_df.printSchema()\n",
    "i94_port_df.limit(10).toPandas()"
   ]
  },
  {
   "cell_type": "markdown",
   "metadata": {
    "editable": true
   },
   "source": [
    "#### 3. Create dataset for I94 modes"
   ]
  },
  {
   "cell_type": "code",
   "execution_count": 18,
   "metadata": {
    "editable": true
   },
   "outputs": [
    {
     "name": "stdout",
     "output_type": "stream",
     "text": [
      "root\n",
      " |-- code: integer (nullable = true)\n",
      " |-- mode: string (nullable = true)\n",
      "\n"
     ]
    },
    {
     "data": {
      "text/html": [
       "<div>\n",
       "<style scoped>\n",
       "    .dataframe tbody tr th:only-of-type {\n",
       "        vertical-align: middle;\n",
       "    }\n",
       "\n",
       "    .dataframe tbody tr th {\n",
       "        vertical-align: top;\n",
       "    }\n",
       "\n",
       "    .dataframe thead th {\n",
       "        text-align: right;\n",
       "    }\n",
       "</style>\n",
       "<table border=\"1\" class=\"dataframe\">\n",
       "  <thead>\n",
       "    <tr style=\"text-align: right;\">\n",
       "      <th></th>\n",
       "      <th>code</th>\n",
       "      <th>mode</th>\n",
       "    </tr>\n",
       "  </thead>\n",
       "  <tbody>\n",
       "    <tr>\n",
       "      <th>0</th>\n",
       "      <td>1</td>\n",
       "      <td>Air</td>\n",
       "    </tr>\n",
       "    <tr>\n",
       "      <th>1</th>\n",
       "      <td>2</td>\n",
       "      <td>Sea</td>\n",
       "    </tr>\n",
       "    <tr>\n",
       "      <th>2</th>\n",
       "      <td>3</td>\n",
       "      <td>Land</td>\n",
       "    </tr>\n",
       "    <tr>\n",
       "      <th>3</th>\n",
       "      <td>9</td>\n",
       "      <td>Not reported</td>\n",
       "    </tr>\n",
       "  </tbody>\n",
       "</table>\n",
       "</div>"
      ],
      "text/plain": [
       "   code          mode\n",
       "0     1           Air\n",
       "1     2           Sea\n",
       "2     3          Land\n",
       "3     9  Not reported"
      ]
     },
     "execution_count": 18,
     "metadata": {},
     "output_type": "execute_result"
    }
   ],
   "source": [
    "i94_mode_df = spark.read \\\n",
    "    .option(\"delimiter\", \";\") \\\n",
    "    .option(\"header\", True) \\\n",
    "    .option(\"inferSchema\", True) \\\n",
    "    .csv('label_i94model.csv')\n",
    "\n",
    "i94_mode_df = i94_mode_df \\\n",
    "    .withColumn(\"mode\", trim(i94_mode_df.mode)) \\\n",
    "    .withColumn(\"mode\", translate(\"mode\", \"'\", \"\")) \\\n",
    "    .withColumn(\"code\", i94_mode_df.code.cast(IntegerType()))\n",
    "\n",
    "i94_mode_df.printSchema()\n",
    "i94_mode_df.limit(5).toPandas()"
   ]
  },
  {
   "cell_type": "markdown",
   "metadata": {
    "editable": true
   },
   "source": [
    "#### 4. Create dataset for I94 states"
   ]
  },
  {
   "cell_type": "code",
   "execution_count": 19,
   "metadata": {
    "editable": true
   },
   "outputs": [
    {
     "name": "stdout",
     "output_type": "stream",
     "text": [
      "root\n",
      " |-- code: string (nullable = true)\n",
      " |-- state: string (nullable = true)\n",
      "\n"
     ]
    },
    {
     "data": {
      "text/html": [
       "<div>\n",
       "<style scoped>\n",
       "    .dataframe tbody tr th:only-of-type {\n",
       "        vertical-align: middle;\n",
       "    }\n",
       "\n",
       "    .dataframe tbody tr th {\n",
       "        vertical-align: top;\n",
       "    }\n",
       "\n",
       "    .dataframe thead th {\n",
       "        text-align: right;\n",
       "    }\n",
       "</style>\n",
       "<table border=\"1\" class=\"dataframe\">\n",
       "  <thead>\n",
       "    <tr style=\"text-align: right;\">\n",
       "      <th></th>\n",
       "      <th>code</th>\n",
       "      <th>state</th>\n",
       "    </tr>\n",
       "  </thead>\n",
       "  <tbody>\n",
       "    <tr>\n",
       "      <th>0</th>\n",
       "      <td>AL</td>\n",
       "      <td>ALABAMA</td>\n",
       "    </tr>\n",
       "    <tr>\n",
       "      <th>1</th>\n",
       "      <td>AK</td>\n",
       "      <td>ALASKA</td>\n",
       "    </tr>\n",
       "    <tr>\n",
       "      <th>2</th>\n",
       "      <td>AZ</td>\n",
       "      <td>ARIZONA</td>\n",
       "    </tr>\n",
       "    <tr>\n",
       "      <th>3</th>\n",
       "      <td>AR</td>\n",
       "      <td>ARKANSAS</td>\n",
       "    </tr>\n",
       "    <tr>\n",
       "      <th>4</th>\n",
       "      <td>CA</td>\n",
       "      <td>CALIFORNIA</td>\n",
       "    </tr>\n",
       "  </tbody>\n",
       "</table>\n",
       "</div>"
      ],
      "text/plain": [
       "  code       state\n",
       "0   AL     ALABAMA\n",
       "1   AK      ALASKA\n",
       "2   AZ     ARIZONA\n",
       "3   AR    ARKANSAS\n",
       "4   CA  CALIFORNIA"
      ]
     },
     "execution_count": 19,
     "metadata": {},
     "output_type": "execute_result"
    }
   ],
   "source": [
    "i94_addr_df = spark.read \\\n",
    "    .option(\"delimiter\", \";\") \\\n",
    "    .option(\"header\", True) \\\n",
    "    .option(\"inferSchema\", True) \\\n",
    "    .csv('label_i94addrl.csv')\n",
    "\n",
    "i94_addr_df = i94_addr_df \\\n",
    "    .withColumn(\"code\", trim(i94_addr_df.code)) \\\n",
    "    .withColumn(\"code\", translate(\"code\", \"\\t\", '')) \\\n",
    "    .withColumn(\"code\", translate(\"code\", \"'\", \"\")) \\\n",
    "    .withColumn(\"state\", translate(\"state\", \"'\", \"\"))\n",
    "\n",
    "i94_addr_df.printSchema()\n",
    "i94_addr_df.limit(5).toPandas()"
   ]
  },
  {
   "cell_type": "markdown",
   "metadata": {
    "editable": true
   },
   "source": [
    "#### 5. Create dataset for I94 visa types"
   ]
  },
  {
   "cell_type": "code",
   "execution_count": 20,
   "metadata": {
    "editable": true
   },
   "outputs": [
    {
     "name": "stdout",
     "output_type": "stream",
     "text": [
      "root\n",
      " |-- code: integer (nullable = true)\n",
      " |-- category: string (nullable = true)\n",
      "\n"
     ]
    },
    {
     "data": {
      "text/html": [
       "<div>\n",
       "<style scoped>\n",
       "    .dataframe tbody tr th:only-of-type {\n",
       "        vertical-align: middle;\n",
       "    }\n",
       "\n",
       "    .dataframe tbody tr th {\n",
       "        vertical-align: top;\n",
       "    }\n",
       "\n",
       "    .dataframe thead th {\n",
       "        text-align: right;\n",
       "    }\n",
       "</style>\n",
       "<table border=\"1\" class=\"dataframe\">\n",
       "  <thead>\n",
       "    <tr style=\"text-align: right;\">\n",
       "      <th></th>\n",
       "      <th>code</th>\n",
       "      <th>category</th>\n",
       "    </tr>\n",
       "  </thead>\n",
       "  <tbody>\n",
       "    <tr>\n",
       "      <th>0</th>\n",
       "      <td>1</td>\n",
       "      <td>Business</td>\n",
       "    </tr>\n",
       "    <tr>\n",
       "      <th>1</th>\n",
       "      <td>2</td>\n",
       "      <td>Pleasure</td>\n",
       "    </tr>\n",
       "    <tr>\n",
       "      <th>2</th>\n",
       "      <td>3</td>\n",
       "      <td>Student</td>\n",
       "    </tr>\n",
       "  </tbody>\n",
       "</table>\n",
       "</div>"
      ],
      "text/plain": [
       "   code  category\n",
       "0     1  Business\n",
       "1     2  Pleasure\n",
       "2     3   Student"
      ]
     },
     "execution_count": 20,
     "metadata": {},
     "output_type": "execute_result"
    }
   ],
   "source": [
    "i94_visa_df = spark.read \\\n",
    "    .option(\"delimiter\", \";\") \\\n",
    "    .option(\"header\", True) \\\n",
    "    .option(\"inferSchema\", True) \\\n",
    "    .csv('label_i94visa.csv')\n",
    "\n",
    "i94_visa_df = i94_visa_df \\\n",
    "    .withColumn(\"code\", trim(i94_visa_df.code)) \\\n",
    "    .withColumn(\"category\", trim(i94_visa_df.category)) \n",
    "\n",
    "i94_visa_df = i94_visa_df.withColumn(\"code\", i94_visa_df.code.cast(IntegerType()))\n",
    "\n",
    "i94_visa_df.printSchema()\n",
    "i94_visa_df.limit(5).toPandas()"
   ]
  },
  {
   "cell_type": "markdown",
   "metadata": {
    "editable": true
   },
   "source": [
    "---"
   ]
  },
  {
   "cell_type": "markdown",
   "metadata": {
    "editable": true
   },
   "source": [
    "# Step 3: Define the Data Model\n",
    "## 3.1 Conceptual Data Model\n",
    "Map out the conceptual data model and explain why you chose that model"
   ]
  },
  {
   "cell_type": "markdown",
   "metadata": {
    "editable": true
   },
   "source": [
    "![data-model](data-model.png)"
   ]
  },
  {
   "cell_type": "markdown",
   "metadata": {
    "editable": true
   },
   "source": [
    "This model is an OLAP Snowflake schema, with 3 fact tables: \n",
    "- `fact_immigration`\n",
    "- `fact_global_temp` \n",
    "- `fact_us_cities`\n",
    "\n",
    "between other dimensional tables, such as:\n",
    "- `dim_us_cities_race`\n",
    "- `dim_country`\n",
    "- `dim_airport_code`\n",
    "- `dim_port`\n",
    "- `dim_mode`\n",
    "- `dim_state`\n",
    "- `dim_visa`\n",
    "\n",
    "It is to make it easier to create meaningful data, as we all can see the **Immigration data** is the main dataset which we want to explore & identify metrics based on it. The other dimensional tables is to create attributes or definitions to what we have in the immigration data. \n",
    "\n",
    "The **US Cities data** & **Global Temperature data** also contains some metrics which we want to aggregate later, thus making it as a fact table will do."
   ]
  },
  {
   "cell_type": "markdown",
   "metadata": {
    "editable": true
   },
   "source": [
    "## 3.2 Mapping Out Data Pipelines\n",
    "List the steps necessary to pipeline the data into the chosen data model"
   ]
  },
  {
   "cell_type": "markdown",
   "metadata": {
    "editable": true
   },
   "source": [
    "- Create Fact tables    \n",
    "1. Create `fact_immigration` table using I94 SAS data\n",
    "2. Create `fact_global_temp` table using World Temperature data\n",
    "3. Create `fact_us_cities` table using US Cities Demographics data\n",
    "- Create Big Dim tables\n",
    "4. Create `dim_us_cities_race` table using US cities Demographics data\n",
    "5. Create `dim_airport_code` table using Airport Codes data\n",
    "- Create Small Dim tables\n",
    "6. Create `dim_country` table\n",
    "7. Create `dim_port` table \n",
    "8. Create `dim_mode` table\n",
    "9. Create `dim_state` table\n",
    "10. Create `dim_visa` table"
   ]
  },
  {
   "cell_type": "markdown",
   "metadata": {
    "editable": true
   },
   "source": [
    "---"
   ]
  },
  {
   "cell_type": "markdown",
   "metadata": {
    "editable": true
   },
   "source": [
    "# Step 4: Run Pipelines to Model the Data \n",
    "## 4.1 Create the data model\n",
    "Build the data pipelines to create the data model."
   ]
  },
  {
   "cell_type": "markdown",
   "metadata": {
    "editable": true
   },
   "source": [
    "## Create Fact tables"
   ]
  },
  {
   "cell_type": "markdown",
   "metadata": {
    "editable": true
   },
   "source": [
    "### 1. Create `fact_immigration` table"
   ]
  },
  {
   "cell_type": "code",
   "execution_count": 21,
   "metadata": {
    "editable": true
   },
   "outputs": [
    {
     "name": "stdout",
     "output_type": "stream",
     "text": [
      "root\n",
      " |-- admission_number: string (nullable = true)\n",
      " |-- cic_id: string (nullable = true)\n",
      " |-- insurance_number: string (nullable = true)\n",
      " |-- birth_year: integer (nullable = true)\n",
      " |-- age: integer (nullable = true)\n",
      " |-- gender: string (nullable = true)\n",
      " |-- airline: string (nullable = true)\n",
      " |-- flight_number: string (nullable = true)\n",
      " |-- visatype: string (nullable = true)\n",
      " |-- arrival_date: integer (nullable = true)\n",
      " |-- departure_date: integer (nullable = true)\n",
      " |-- origin_country_code: integer (nullable = true)\n",
      " |-- residential_country_code: integer (nullable = true)\n",
      " |-- port_code: string (nullable = true)\n",
      " |-- mode_code: integer (nullable = true)\n",
      " |-- state_code: string (nullable = true)\n",
      " |-- visa_code: string (nullable = true)\n",
      " |-- year: integer (nullable = true)\n",
      " |-- month: integer (nullable = true)\n",
      "\n"
     ]
    }
   ],
   "source": [
    "fact_immigration_df = sas_cleaned_df.select(\n",
    "    sas_cleaned_df.admnum.alias(\"admission_number\"),\n",
    "    sas_cleaned_df.cicid.alias(\"cic_id\"),\n",
    "    sas_cleaned_df.insnum.alias(\"insurance_number\"),\n",
    "    sas_cleaned_df.biryear.alias(\"birth_year\"),\n",
    "    sas_cleaned_df.i94bir.alias(\"age\"),\n",
    "    sas_cleaned_df.gender,\n",
    "    sas_cleaned_df.airline,\n",
    "    sas_cleaned_df.fltno.alias(\"flight_number\"),\n",
    "    sas_cleaned_df.visatype,\n",
    "    sas_cleaned_df.arrdate.alias(\"arrival_date\"),\n",
    "    sas_cleaned_df.depdate.alias(\"departure_date\"),\n",
    "    sas_cleaned_df.i94cit.alias(\"origin_country_code\"),\n",
    "    sas_cleaned_df.i94res.alias(\"residential_country_code\"),\n",
    "    sas_cleaned_df.i94port.alias(\"port_code\"),\n",
    "    sas_cleaned_df.i94mode.alias(\"mode_code\"),\n",
    "    sas_cleaned_df.i94addr.alias(\"state_code\"),\n",
    "    sas_cleaned_df.i94visa.alias(\"visa_code\"),\n",
    "    sas_cleaned_df.i94yr.alias(\"year\"),\n",
    "    sas_cleaned_df.i94mon.alias(\"month\"),\n",
    "    )\n",
    "\n",
    "fact_immigration_df.printSchema()\n",
    "fact_immigration_df.limit(5).toPandas()\n",
    "\n",
    "# Write table\n",
    "fact_immigration_df.write.partitionBy(\"year\", \"month\").mode(\"overwrite\").parquet(\"dwh/fact_immigration\")"
   ]
  },
  {
   "cell_type": "markdown",
   "metadata": {
    "editable": true
   },
   "source": [
    "### 2. Create `fact_global_temp` table"
   ]
  },
  {
   "cell_type": "code",
   "execution_count": 22,
   "metadata": {
    "editable": true
   },
   "outputs": [
    {
     "name": "stdout",
     "output_type": "stream",
     "text": [
      "root\n",
      " |-- dt: timestamp (nullable = true)\n",
      " |-- AverageTemperature: double (nullable = true)\n",
      " |-- AverageTemperatureUncertainty: double (nullable = true)\n",
      " |-- City: string (nullable = true)\n",
      " |-- Country: string (nullable = true)\n",
      " |-- Latitude: string (nullable = true)\n",
      " |-- Longitude: string (nullable = true)\n",
      " |-- year: integer (nullable = true)\n",
      " |-- month: integer (nullable = true)\n",
      " |-- day: integer (nullable = true)\n",
      "\n"
     ]
    }
   ],
   "source": [
    "fact_global_temp_df = global_temp_df \\\n",
    "    .withColumn(\"year\", year(global_temp_df[\"dt\"])) \\\n",
    "    .withColumn(\"month\", month(global_temp_df[\"dt\"])) \\\n",
    "    .withColumn(\"day\", dayofmonth(global_temp_df[\"dt\"]))\n",
    "\n",
    "fact_global_temp_df.printSchema()\n",
    "fact_global_temp_df.limit(10).toPandas()\n",
    "\n",
    "# Write table\n",
    "fact_global_temp_df.write.partitionBy(\"year\", \"month\").mode(\"overwrite\").parquet(\"dwh/fact_global_temp\")"
   ]
  },
  {
   "cell_type": "markdown",
   "metadata": {
    "editable": true
   },
   "source": [
    "### 3. Create `fact_us_cities` table"
   ]
  },
  {
   "cell_type": "code",
   "execution_count": 23,
   "metadata": {
    "editable": true
   },
   "outputs": [
    {
     "name": "stdout",
     "output_type": "stream",
     "text": [
      "root\n",
      " |-- StateCode: string (nullable = true)\n",
      " |-- State: string (nullable = true)\n",
      " |-- City: string (nullable = true)\n",
      " |-- MedianAge: double (nullable = true)\n",
      " |-- MalePopulation: integer (nullable = true)\n",
      " |-- FemalePopulation: integer (nullable = true)\n",
      " |-- TotalPopulation: integer (nullable = true)\n",
      " |-- NumberofVeterans: integer (nullable = true)\n",
      " |-- Foreign-born: integer (nullable = true)\n",
      " |-- AverageHouseholdSize: double (nullable = true)\n",
      "\n"
     ]
    }
   ],
   "source": [
    "fact_us_cities_df = us_cities_df.select(\n",
    "    us_cities_df[\"State Code\"].alias(\"StateCode\"),\n",
    "    us_cities_df[\"State\"],\n",
    "    us_cities_df[\"City\"],    \n",
    "    us_cities_df[\"Median Age\"].alias(\"MedianAge\"),\n",
    "    us_cities_df[\"Male Population\"].alias(\"MalePopulation\"),\n",
    "    us_cities_df[\"Female Population\"].alias(\"FemalePopulation\"),\n",
    "    us_cities_df[\"Total Population\"].alias(\"TotalPopulation\"),\n",
    "    us_cities_df[\"Number of Veterans\"].alias(\"NumberofVeterans\"),\n",
    "    us_cities_df[\"Foreign-born\"],\n",
    "    us_cities_df[\"Average Household Size\"].alias(\"AverageHouseholdSize\"),\n",
    "    ).dropDuplicates()\n",
    "\n",
    "fact_us_cities_df.printSchema()\n",
    "fact_us_cities_df.sort([\"StateCode\", \"State\", \"City\"]).limit(10).toPandas()\n",
    "\n",
    "# Write table\n",
    "fact_us_cities_df.write.partitionBy(\"StateCode\").mode(\"overwrite\").parquet(\"dwh/fact_us_cities\")"
   ]
  },
  {
   "cell_type": "markdown",
   "metadata": {
    "editable": true
   },
   "source": [
    "---"
   ]
  },
  {
   "cell_type": "markdown",
   "metadata": {
    "editable": true
   },
   "source": [
    "## Create Big Dim tables"
   ]
  },
  {
   "cell_type": "markdown",
   "metadata": {
    "editable": true
   },
   "source": [
    "### 4. Create `dim_us_cities_race` table"
   ]
  },
  {
   "cell_type": "code",
   "execution_count": 24,
   "metadata": {
    "editable": true
   },
   "outputs": [
    {
     "name": "stdout",
     "output_type": "stream",
     "text": [
      "root\n",
      " |-- StateCode: string (nullable = true)\n",
      " |-- State: string (nullable = true)\n",
      " |-- City: string (nullable = true)\n",
      " |-- Race: string (nullable = true)\n",
      " |-- Count: integer (nullable = true)\n",
      "\n"
     ]
    }
   ],
   "source": [
    "dim_us_cities_race_df = us_cities_df.select(\n",
    "    us_cities_df[\"State Code\"].alias(\"StateCode\"),\n",
    "    us_cities_df[\"State\"],\n",
    "    us_cities_df[\"City\"],\n",
    "    us_cities_df[\"Race\"],\n",
    "    us_cities_df[\"Count\"],\n",
    ")\n",
    "dim_us_cities_race_df.printSchema()\n",
    "dim_us_cities_race_df.sort([\"StateCode\", \"State\", \"City\", \"Race\"]).limit(10).toPandas()\n",
    "\n",
    "# Write table\n",
    "dim_us_cities_race_df.write.partitionBy(\"StateCode\").mode(\"overwrite\").parquet(\"dwh/dim_us_cities_race\")"
   ]
  },
  {
   "cell_type": "markdown",
   "metadata": {
    "editable": true
   },
   "source": [
    "### 5. Create `dim_airport_code` table"
   ]
  },
  {
   "cell_type": "code",
   "execution_count": 25,
   "metadata": {
    "editable": true
   },
   "outputs": [
    {
     "name": "stdout",
     "output_type": "stream",
     "text": [
      "root\n",
      " |-- ident: string (nullable = true)\n",
      " |-- type: string (nullable = true)\n",
      " |-- name: string (nullable = true)\n",
      " |-- elevation_ft: integer (nullable = true)\n",
      " |-- continent: string (nullable = true)\n",
      " |-- iso_country: string (nullable = true)\n",
      " |-- iso_region: string (nullable = true)\n",
      " |-- municipality: string (nullable = true)\n",
      " |-- gps_code: string (nullable = true)\n",
      " |-- iata_code: string (nullable = true)\n",
      " |-- local_code: string (nullable = true)\n",
      " |-- coordinates: string (nullable = true)\n",
      " |-- iso_state: string (nullable = true)\n",
      "\n"
     ]
    }
   ],
   "source": [
    "dim_airport_code_df = airport_code_df.withColumn(\"iso_state\", substring('iso_region', 4, 2))\n",
    "\n",
    "dim_airport_code_df.printSchema()\n",
    "dim_airport_code_df.limit(5).toPandas()\n",
    "\n",
    "# Write table\n",
    "dim_airport_code_df.write.partitionBy(\"iso_country\", \"iso_state\").mode(\"overwrite\").parquet(\"dwh/dim_airport_code\")"
   ]
  },
  {
   "cell_type": "markdown",
   "metadata": {
    "editable": true
   },
   "source": [
    "## Create Small Dim tables"
   ]
  },
  {
   "cell_type": "markdown",
   "metadata": {
    "editable": true
   },
   "source": [
    "### 6. Create `dim_country` table"
   ]
  },
  {
   "cell_type": "code",
   "execution_count": 26,
   "metadata": {
    "editable": true
   },
   "outputs": [
    {
     "name": "stdout",
     "output_type": "stream",
     "text": [
      "root\n",
      " |-- country_code: integer (nullable = true)\n",
      " |-- country: string (nullable = true)\n",
      "\n",
      "+------------+-----------------------------------------------------------+\n",
      "|country_code|country                                                    |\n",
      "+------------+-----------------------------------------------------------+\n",
      "|582         |  MEXICO Air Sea, and Not Reported (I-94, no land arrivals)|\n",
      "|236         |  AFGHANISTAN                                              |\n",
      "|101         |  ALBANIA                                                  |\n",
      "|316         |  ALGERIA                                                  |\n",
      "|102         |  ANDORRA                                                  |\n",
      "|324         |  ANGOLA                                                   |\n",
      "|529         |  ANGUILLA                                                 |\n",
      "|518         |  ANTIGUA-BARBUDA                                          |\n",
      "|687         |  ARGENTINA                                                |\n",
      "|151         |  ARMENIA                                                  |\n",
      "+------------+-----------------------------------------------------------+\n",
      "only showing top 10 rows\n",
      "\n"
     ]
    }
   ],
   "source": [
    "dim_country_df = i94_country_df.withColumnRenamed(\"code\", \"country_code\")\n",
    "dim_country_df.printSchema()\n",
    "dim_country_df.show(10, truncate=False)\n",
    "\n",
    "# Write table\n",
    "dim_country_df.write.mode(\"overwrite\").parquet(\"dwh/dim_country\")"
   ]
  },
  {
   "cell_type": "markdown",
   "metadata": {
    "editable": true
   },
   "source": [
    "### 7. Create `dim_port` table"
   ]
  },
  {
   "cell_type": "code",
   "execution_count": 27,
   "metadata": {
    "editable": true
   },
   "outputs": [
    {
     "name": "stdout",
     "output_type": "stream",
     "text": [
      "root\n",
      " |-- port_code: string (nullable = true)\n",
      " |-- port: string (nullable = true)\n",
      "\n",
      "+---------+----------------------------+\n",
      "|port_code|port                        |\n",
      "+---------+----------------------------+\n",
      "|ALC      |ALCAN, AK                   |\n",
      "|ANC      |ANCHORAGE, AK               |\n",
      "|BAR      |BAKER AAF - BAKER ISLAND, AK|\n",
      "|DAC      |DALTONS CACHE, AK           |\n",
      "|PIZ      |DEW STATION PT LAY DEW, AK  |\n",
      "|DTH      |DUTCH HARBOR, AK            |\n",
      "|EGL      |EAGLE, AK                   |\n",
      "|FRB      |FAIRBANKS, AK               |\n",
      "|HOM      |HOMER, AK                   |\n",
      "|HYD      |HYDER, AK                   |\n",
      "+---------+----------------------------+\n",
      "only showing top 10 rows\n",
      "\n"
     ]
    }
   ],
   "source": [
    "dim_port_df = i94_port_df.withColumnRenamed(\"code\", \"port_code\")\n",
    "\n",
    "dim_port_df.printSchema()\n",
    "dim_port_df.show(10, truncate=False)\n",
    "\n",
    "# Write table\n",
    "dim_port_df.write.mode(\"overwrite\").parquet(\"dwh/dim_port\")"
   ]
  },
  {
   "cell_type": "markdown",
   "metadata": {
    "editable": true
   },
   "source": [
    "### 8. Create `dim_mode` table"
   ]
  },
  {
   "cell_type": "code",
   "execution_count": 28,
   "metadata": {
    "editable": true
   },
   "outputs": [
    {
     "name": "stdout",
     "output_type": "stream",
     "text": [
      "root\n",
      " |-- mode_code: integer (nullable = true)\n",
      " |-- mode: string (nullable = true)\n",
      "\n",
      "+---------+------------+\n",
      "|mode_code|        mode|\n",
      "+---------+------------+\n",
      "|        1|         Air|\n",
      "|        2|         Sea|\n",
      "|        3|        Land|\n",
      "|        9|Not reported|\n",
      "+---------+------------+\n",
      "\n"
     ]
    }
   ],
   "source": [
    "dim_mode_df = i94_mode_df.withColumnRenamed(\"code\", \"mode_code\")\n",
    "\n",
    "dim_mode_df.printSchema()\n",
    "dim_mode_df.show()\n",
    "\n",
    "# Write table\n",
    "dim_mode_df.write.mode(\"overwrite\").parquet(\"dwh/dim_mode\")"
   ]
  },
  {
   "cell_type": "markdown",
   "metadata": {
    "editable": true
   },
   "source": [
    "### 9. Create `dim_state` table"
   ]
  },
  {
   "cell_type": "code",
   "execution_count": 29,
   "metadata": {
    "editable": true
   },
   "outputs": [
    {
     "name": "stdout",
     "output_type": "stream",
     "text": [
      "root\n",
      " |-- state_code: string (nullable = true)\n",
      " |-- state: string (nullable = true)\n",
      "\n",
      "+----------+-----------------+\n",
      "|state_code|            state|\n",
      "+----------+-----------------+\n",
      "|        AL|          ALABAMA|\n",
      "|        AK|           ALASKA|\n",
      "|        AZ|          ARIZONA|\n",
      "|        AR|         ARKANSAS|\n",
      "|        CA|       CALIFORNIA|\n",
      "|        CO|         COLORADO|\n",
      "|        CT|      CONNECTICUT|\n",
      "|        DE|         DELAWARE|\n",
      "|        DC|DIST. OF COLUMBIA|\n",
      "|        FL|          FLORIDA|\n",
      "|        GA|          GEORGIA|\n",
      "|        GU|             GUAM|\n",
      "|        HI|           HAWAII|\n",
      "|        ID|            IDAHO|\n",
      "|        IL|         ILLINOIS|\n",
      "|        IN|          INDIANA|\n",
      "|        IA|             IOWA|\n",
      "|        KS|           KANSAS|\n",
      "|        KY|         KENTUCKY|\n",
      "|        LA|        LOUISIANA|\n",
      "+----------+-----------------+\n",
      "only showing top 20 rows\n",
      "\n"
     ]
    }
   ],
   "source": [
    "dim_state_df = i94_addr_df.withColumnRenamed(\"code\", \"state_code\")\n",
    "dim_state_df.printSchema()\n",
    "dim_state_df.show()\n",
    "\n",
    "# Write table\n",
    "dim_state_df.write.mode(\"overwrite\").parquet(\"dwh/dim_state\")"
   ]
  },
  {
   "cell_type": "markdown",
   "metadata": {
    "editable": true
   },
   "source": [
    "### 10. Create `dim_visa` table"
   ]
  },
  {
   "cell_type": "code",
   "execution_count": 30,
   "metadata": {
    "editable": true
   },
   "outputs": [
    {
     "name": "stdout",
     "output_type": "stream",
     "text": [
      "root\n",
      " |-- visa_code: integer (nullable = true)\n",
      " |-- category: string (nullable = true)\n",
      "\n",
      "+---------+--------+\n",
      "|visa_code|category|\n",
      "+---------+--------+\n",
      "|        1|Business|\n",
      "|        2|Pleasure|\n",
      "|        3| Student|\n",
      "+---------+--------+\n",
      "\n"
     ]
    }
   ],
   "source": [
    "dim_visa_df = i94_visa_df.withColumnRenamed(\"code\", \"visa_code\")\n",
    "dim_visa_df.printSchema()\n",
    "dim_visa_df.show()\n",
    "\n",
    "# Write table\n",
    "dim_visa_df.write.mode(\"overwrite\").parquet(\"dwh/dim_visa\")"
   ]
  },
  {
   "cell_type": "markdown",
   "metadata": {
    "editable": true
   },
   "source": [
    "## 4.2 Data Quality Checks\n",
    "Explain the data quality checks you'll perform to ensure the pipeline ran as expected. These could include:\n",
    " * Integrity constraints on the relational database (e.g., unique key, data type, etc.)\n",
    " * Unit tests for the scripts to ensure they are doing the right thing\n",
    " * Source/Count checks to ensure completeness\n",
    " \n",
    "Run Quality Checks"
   ]
  },
  {
   "cell_type": "markdown",
   "metadata": {
    "editable": true
   },
   "source": [
    "## Source/Count checks"
   ]
  },
  {
   "cell_type": "code",
   "execution_count": 31,
   "metadata": {
    "editable": true
   },
   "outputs": [
    {
     "name": "stdout",
     "output_type": "stream",
     "text": [
      "Table DataFrame[admission_number: string, cic_id: string, insurance_number: string, birth_year: int, age: int, gender: string, airline: string, flight_number: string, visatype: string, arrival_date: int, departure_date: int, origin_country_code: int, residential_country_code: int, port_code: string, mode_code: int, state_code: string, visa_code: string, year: int, month: int] has 3096313 records\n",
      "Table DataFrame[dt: timestamp, AverageTemperature: double, AverageTemperatureUncertainty: double, City: string, Country: string, Latitude: string, Longitude: string, year: int, month: int, day: int] has 8599212 records\n",
      "Table DataFrame[StateCode: string, State: string, City: string, MedianAge: double, MalePopulation: int, FemalePopulation: int, TotalPopulation: int, NumberofVeterans: int, Foreign-born: int, AverageHouseholdSize: double] has 596 records\n",
      "Table DataFrame[StateCode: string, State: string, City: string, Race: string, Count: int] has 2891 records\n",
      "Table DataFrame[ident: string, type: string, name: string, elevation_ft: int, continent: string, iso_country: string, iso_region: string, municipality: string, gps_code: string, iata_code: string, local_code: string, coordinates: string, iso_state: string] has 55075 records\n",
      "Table DataFrame[country_code: int, country: string] has 289 records\n",
      "Table DataFrame[port_code: string, port: string] has 660 records\n",
      "Table DataFrame[mode_code: int, mode: string] has 4 records\n",
      "Table DataFrame[state_code: string, state: string] has 55 records\n",
      "Table DataFrame[visa_code: int, category: string] has 3 records\n"
     ]
    }
   ],
   "source": [
    "# Perform quality checks here\n",
    "list_of_tables = [\n",
    "    fact_immigration_df,\n",
    "    fact_global_temp_df,\n",
    "    fact_us_cities_df,\n",
    "    dim_us_cities_race_df,\n",
    "    dim_airport_code_df,\n",
    "    dim_country_df,\n",
    "    dim_port_df,\n",
    "    dim_mode_df,\n",
    "    dim_state_df,\n",
    "    dim_visa_df,\n",
    "]\n",
    "for table in list_of_tables:\n",
    "    if (table.count() > 0):\n",
    "        print(f\"Table {table} has {table.count()} records\") \n",
    "    else:\n",
    "        print(f\"There was no records in {table}!\")"
   ]
  },
  {
   "cell_type": "markdown",
   "metadata": {
    "editable": true
   },
   "source": [
    "## Integrity constraints"
   ]
  },
  {
   "cell_type": "markdown",
   "metadata": {
    "editable": true
   },
   "source": [
    "Country Joined"
   ]
  },
  {
   "cell_type": "code",
   "execution_count": 32,
   "metadata": {
    "editable": true
   },
   "outputs": [
    {
     "name": "stdout",
     "output_type": "stream",
     "text": [
      "root\n",
      " |-- admission_number: string (nullable = true)\n",
      " |-- cic_id: string (nullable = true)\n",
      " |-- insurance_number: string (nullable = true)\n",
      " |-- birth_year: integer (nullable = true)\n",
      " |-- age: integer (nullable = true)\n",
      " |-- gender: string (nullable = true)\n",
      " |-- airline: string (nullable = true)\n",
      " |-- flight_number: string (nullable = true)\n",
      " |-- visatype: string (nullable = true)\n",
      " |-- arrival_date: integer (nullable = true)\n",
      " |-- departure_date: integer (nullable = true)\n",
      " |-- origin_country_code: integer (nullable = true)\n",
      " |-- residential_country_code: integer (nullable = true)\n",
      " |-- port_code: string (nullable = true)\n",
      " |-- mode_code: integer (nullable = true)\n",
      " |-- state_code: string (nullable = true)\n",
      " |-- visa_code: string (nullable = true)\n",
      " |-- year: integer (nullable = true)\n",
      " |-- month: integer (nullable = true)\n",
      " |-- original_country: string (nullable = true)\n",
      " |-- residential_country: string (nullable = true)\n",
      "\n",
      "+----------------+-------------------+----------------+------------------------+-------------------+\n",
      "|admission_number|origin_country_code|original_country|residential_country_code|residential_country|\n",
      "+----------------+-------------------+----------------+------------------------+-------------------+\n",
      "|      1897628485|                692|         ECUADOR|                     692|            ECUADOR|\n",
      "|      2147483647|                254|            null|                     276|        SOUTH KOREA|\n",
      "|       666643185|                101|         ALBANIA|                     101|            ALBANIA|\n",
      "|      2147483647|                101|         ALBANIA|                     101|            ALBANIA|\n",
      "|      2147483647|                101|         ALBANIA|                     101|            ALBANIA|\n",
      "|      2147483647|                101|         ALBANIA|                     101|            ALBANIA|\n",
      "|      2147483647|                101|         ALBANIA|                     101|            ALBANIA|\n",
      "|      2147483647|                101|         ALBANIA|                     101|            ALBANIA|\n",
      "|      2147483647|                101|         ALBANIA|                     101|            ALBANIA|\n",
      "|      2147483647|                101|         ALBANIA|                     101|            ALBANIA|\n",
      "+----------------+-------------------+----------------+------------------------+-------------------+\n",
      "only showing top 10 rows\n",
      "\n"
     ]
    },
    {
     "data": {
      "text/plain": [
       "3096313"
      ]
     },
     "execution_count": 32,
     "metadata": {},
     "output_type": "execute_result"
    }
   ],
   "source": [
    "country_joined_test = fact_immigration_df \\\n",
    "    .join(dim_country_df, fact_immigration_df.origin_country_code == dim_country_df.country_code, \"left\") \\\n",
    "    .drop(dim_country_df[\"country_code\"]) \\\n",
    "    .withColumnRenamed(\"country\", \"original_country\") \\\n",
    "    .join(dim_country_df, fact_immigration_df.residential_country_code == dim_country_df.country_code, \"left\") \\\n",
    "    .drop(dim_country_df[\"country_code\"]) \\\n",
    "    .withColumnRenamed(\"country\", \"residential_country\") \n",
    "\n",
    "country_joined_test.printSchema()\n",
    "\n",
    "country_joined_test = country_joined_test.select([\"admission_number\", \"origin_country_code\", \"original_country\", \\\n",
    "                            \"residential_country_code\", \"residential_country\"])\n",
    "country_joined_test.show(10)\n",
    "country_joined_test.count()"
   ]
  },
  {
   "cell_type": "markdown",
   "metadata": {
    "editable": true
   },
   "source": [
    "Port Join"
   ]
  },
  {
   "cell_type": "code",
   "execution_count": 33,
   "metadata": {
    "editable": true
   },
   "outputs": [
    {
     "name": "stdout",
     "output_type": "stream",
     "text": [
      "root\n",
      " |-- admission_number: string (nullable = true)\n",
      " |-- cic_id: string (nullable = true)\n",
      " |-- insurance_number: string (nullable = true)\n",
      " |-- birth_year: integer (nullable = true)\n",
      " |-- age: integer (nullable = true)\n",
      " |-- gender: string (nullable = true)\n",
      " |-- airline: string (nullable = true)\n",
      " |-- flight_number: string (nullable = true)\n",
      " |-- visatype: string (nullable = true)\n",
      " |-- arrival_date: integer (nullable = true)\n",
      " |-- departure_date: integer (nullable = true)\n",
      " |-- origin_country_code: integer (nullable = true)\n",
      " |-- residential_country_code: integer (nullable = true)\n",
      " |-- port_code: string (nullable = true)\n",
      " |-- mode_code: integer (nullable = true)\n",
      " |-- state_code: string (nullable = true)\n",
      " |-- visa_code: string (nullable = true)\n",
      " |-- year: integer (nullable = true)\n",
      " |-- month: integer (nullable = true)\n",
      " |-- port: string (nullable = true)\n",
      "\n",
      "+----------------+--------------------+\n",
      "|admission_number|                port|\n",
      "+----------------+--------------------+\n",
      "|      1897628485|NOT REPORTED/UNKNOWN|\n",
      "|      2147483647|         ATLANTA, GA|\n",
      "|       666643185|       WASHINGTON DC|\n",
      "|      2147483647|        NEW YORK, NY|\n",
      "|      2147483647|        NEW YORK, NY|\n",
      "|      2147483647|        NEW YORK, NY|\n",
      "|      2147483647|        NEW YORK, NY|\n",
      "|      2147483647|        NEW YORK, NY|\n",
      "|      2147483647|        NEW YORK, NY|\n",
      "|      2147483647|        NEW YORK, NY|\n",
      "+----------------+--------------------+\n",
      "only showing top 10 rows\n",
      "\n"
     ]
    },
    {
     "data": {
      "text/plain": [
       "3096313"
      ]
     },
     "execution_count": 33,
     "metadata": {},
     "output_type": "execute_result"
    }
   ],
   "source": [
    "port_joined_test = fact_immigration_df \\\n",
    "    .join(dim_port_df, fact_immigration_df.port_code == dim_port_df.port_code, \"left\") \\\n",
    "    .drop(dim_port_df[\"port_code\"])\n",
    "port_joined_test.printSchema()\n",
    "port_joined_test.select([\"admission_number\", \"port\"]).show(10)\n",
    "port_joined_test.count()"
   ]
  },
  {
   "cell_type": "markdown",
   "metadata": {
    "editable": true
   },
   "source": [
    "Mode Join"
   ]
  },
  {
   "cell_type": "code",
   "execution_count": 34,
   "metadata": {
    "editable": true
   },
   "outputs": [
    {
     "name": "stdout",
     "output_type": "stream",
     "text": [
      "+----------------+---------+----+\n",
      "|admission_number|mode_code|mode|\n",
      "+----------------+---------+----+\n",
      "|      1897628485|     null|null|\n",
      "|      2147483647|        1| Air|\n",
      "|       666643185|        1| Air|\n",
      "|      2147483647|        1| Air|\n",
      "|      2147483647|        1| Air|\n",
      "|      2147483647|        1| Air|\n",
      "|      2147483647|        1| Air|\n",
      "|      2147483647|        1| Air|\n",
      "|      2147483647|        1| Air|\n",
      "|      2147483647|        1| Air|\n",
      "+----------------+---------+----+\n",
      "only showing top 10 rows\n",
      "\n"
     ]
    },
    {
     "data": {
      "text/plain": [
       "3096313"
      ]
     },
     "execution_count": 34,
     "metadata": {},
     "output_type": "execute_result"
    }
   ],
   "source": [
    "mode_joined_test = fact_immigration_df \\\n",
    "    .join(dim_mode_df, fact_immigration_df.mode_code == dim_mode_df.mode_code, \"left\") \\\n",
    "    .drop(dim_mode_df[\"mode_code\"]) \\\n",
    "\n",
    "mode_joined_test.select([\"admission_number\", \"mode_code\", \"mode\"]).show(10)\n",
    "mode_joined_test.count()"
   ]
  },
  {
   "cell_type": "markdown",
   "metadata": {
    "editable": true
   },
   "source": [
    "State Join"
   ]
  },
  {
   "cell_type": "code",
   "execution_count": 35,
   "metadata": {
    "editable": true
   },
   "outputs": [
    {
     "name": "stdout",
     "output_type": "stream",
     "text": [
      "+----------------+----------+-------------+\n",
      "|admission_number|state_code|        state|\n",
      "+----------------+----------+-------------+\n",
      "|      1897628485|      null|         null|\n",
      "|      2147483647|        AL|      ALABAMA|\n",
      "|       666643185|        MI|     MICHIGAN|\n",
      "|      2147483647|        MA|MASSACHUSETTS|\n",
      "|      2147483647|        MA|MASSACHUSETTS|\n",
      "|      2147483647|        MI|     MICHIGAN|\n",
      "|      2147483647|        NJ|   NEW JERSEY|\n",
      "|      2147483647|        NJ|   NEW JERSEY|\n",
      "|      2147483647|        NY|     NEW YORK|\n",
      "|      2147483647|        NY|     NEW YORK|\n",
      "+----------------+----------+-------------+\n",
      "only showing top 10 rows\n",
      "\n"
     ]
    },
    {
     "data": {
      "text/plain": [
       "3096313"
      ]
     },
     "execution_count": 35,
     "metadata": {},
     "output_type": "execute_result"
    }
   ],
   "source": [
    "state_joined_test = fact_immigration_df \\\n",
    "    .join(dim_state_df, fact_immigration_df.state_code == dim_state_df.state_code, \"left\") \\\n",
    "    .drop(dim_state_df[\"state_code\"]) \\\n",
    "\n",
    "state_joined_test.select([\"admission_number\", \"state_code\", \"state\"]).show(10)\n",
    "state_joined_test.count()"
   ]
  },
  {
   "cell_type": "markdown",
   "metadata": {
    "editable": true
   },
   "source": [
    "Visa Join"
   ]
  },
  {
   "cell_type": "code",
   "execution_count": 36,
   "metadata": {
    "editable": true
   },
   "outputs": [
    {
     "name": "stdout",
     "output_type": "stream",
     "text": [
      "+----------------+---------+--------+\n",
      "|admission_number|visa_code|category|\n",
      "+----------------+---------+--------+\n",
      "|      1897628485|        2|Pleasure|\n",
      "|      2147483647|        3| Student|\n",
      "|       666643185|        2|Pleasure|\n",
      "|      2147483647|        2|Pleasure|\n",
      "|      2147483647|        2|Pleasure|\n",
      "|      2147483647|        1|Business|\n",
      "|      2147483647|        2|Pleasure|\n",
      "|      2147483647|        2|Pleasure|\n",
      "|      2147483647|        2|Pleasure|\n",
      "|      2147483647|        1|Business|\n",
      "+----------------+---------+--------+\n",
      "only showing top 10 rows\n",
      "\n"
     ]
    },
    {
     "data": {
      "text/plain": [
       "3096313"
      ]
     },
     "execution_count": 36,
     "metadata": {},
     "output_type": "execute_result"
    }
   ],
   "source": [
    "visa_joined_test = fact_immigration_df \\\n",
    "    .join(dim_visa_df, fact_immigration_df.visa_code == dim_visa_df.visa_code, \"left\") \\\n",
    "    .drop(dim_visa_df[\"visa_code\"]) \n",
    "\n",
    "visa_joined_test.select([\"admission_number\", \"visa_code\", \"category\"]).show(10)\n",
    "visa_joined_test.count()"
   ]
  },
  {
   "cell_type": "markdown",
   "metadata": {
    "editable": true
   },
   "source": [
    "## Sample Queries"
   ]
  },
  {
   "cell_type": "code",
   "execution_count": 37,
   "metadata": {
    "editable": true
   },
   "outputs": [],
   "source": [
    "# Create views\n",
    "fact_immigration_df.createOrReplaceTempView(\"fact_immigration\")\n",
    "fact_global_temp_df.createOrReplaceTempView(\"fact_global_temp\")\n",
    "fact_us_cities_df.createOrReplaceTempView(\"fact_us_cities\")\n",
    "\n",
    "dim_us_cities_race_df.createOrReplaceTempView(\"dim_us_cities_race\")\n",
    "dim_airport_code_df.createOrReplaceTempView(\"dim_airport_code\")\n",
    "dim_country_df.createOrReplaceTempView(\"dim_country\")\n",
    "dim_port_df.createOrReplaceTempView(\"dim_port\")\n",
    "dim_mode_df.createOrReplaceTempView(\"dim_mode\")\n",
    "dim_state_df.createOrReplaceTempView(\"dim_state\")\n",
    "dim_visa_df.createOrReplaceTempView(\"dim_visa\")"
   ]
  },
  {
   "cell_type": "markdown",
   "metadata": {
    "editable": true
   },
   "source": [
    "### What is the name of the airport of each admission_number?"
   ]
  },
  {
   "cell_type": "code",
   "execution_count": 44,
   "metadata": {
    "editable": true
   },
   "outputs": [
    {
     "name": "stdout",
     "output_type": "stream",
     "text": [
      "+----------------+----------+---------+--------------------+-------------+---------+--------------+\n",
      "|admission_number|state_code|iso_state|                name|         type|continent|  municipality|\n",
      "+----------------+----------+---------+--------------------+-------------+---------+--------------+\n",
      "|      1897628485|      null|     null|                null|         null|     null|          null|\n",
      "|      2147483647|        AL|       AL|       Lyons Airpark|       closed|       NA|    Rainsville|\n",
      "|      2147483647|        AL|       AL|       Treeo Airport|small_airport|       NA|        Daphne|\n",
      "|      2147483647|        AL|       AL|Rocky Springs Air...|small_airport|       NA|        Bremen|\n",
      "|      2147483647|        AL|       AL|Plant Franklin He...|     heliport|       NA|Smiths Station|\n",
      "+----------------+----------+---------+--------------------+-------------+---------+--------------+\n",
      "only showing top 5 rows\n",
      "\n"
     ]
    }
   ],
   "source": [
    "query = \"\"\"\n",
    "        SELECT admission_number, state_code, iso_state, name, type, continent, municipality\n",
    "        FROM fact_immigration\n",
    "        LEFT JOIN dim_airport_code ON fact_immigration.state_code = dim_airport_code.iso_state\n",
    "        \"\"\"\n",
    "\n",
    "spark.sql(query).show(5)"
   ]
  },
  {
   "cell_type": "markdown",
   "metadata": {
    "editable": true
   },
   "source": [
    "### What is the total population of each state in US cities?"
   ]
  },
  {
   "cell_type": "code",
   "execution_count": 48,
   "metadata": {
    "editable": true
   },
   "outputs": [
    {
     "name": "stdout",
     "output_type": "stream",
     "text": [
      "+---------+--------------+---------------+\n",
      "|StateCode|         State|TotalPopulation|\n",
      "+---------+--------------+---------------+\n",
      "|       MT|       Montana|         181294|\n",
      "|       NC|North Carolina|        3060199|\n",
      "|       MD|      Maryland|        1312129|\n",
      "|       CO|      Colorado|        2935669|\n",
      "|       CT|   Connecticut|         885581|\n",
      "+---------+--------------+---------------+\n",
      "only showing top 5 rows\n",
      "\n"
     ]
    }
   ],
   "source": [
    "query = \"\"\"\n",
    "        SELECT StateCode, State, SUM(TotalPopulation) TotalPopulation\n",
    "        FROM fact_us_cities\n",
    "        GROUP BY StateCode, State\n",
    "        \"\"\"\n",
    "\n",
    "spark.sql(query).show(5)"
   ]
  },
  {
   "cell_type": "markdown",
   "metadata": {
    "editable": true
   },
   "source": [
    "### What is the number of admission on each month & year?"
   ]
  },
  {
   "cell_type": "code",
   "execution_count": 49,
   "metadata": {
    "editable": true
   },
   "outputs": [
    {
     "name": "stdout",
     "output_type": "stream",
     "text": [
      "+----+-----+--------------------+\n",
      "|year|month|     total_admission|\n",
      "+----+-----+--------------------+\n",
      "|2016|    4|6.538320570639435E15|\n",
      "+----+-----+--------------------+\n",
      "\n"
     ]
    }
   ],
   "source": [
    "query = \"\"\"\n",
    "        SELECT year, month, SUM(admission_number) total_admission\n",
    "        FROM fact_immigration\n",
    "        GROUP BY year, month\n",
    "        \"\"\"\n",
    "\n",
    "spark.sql(query).show(5)"
   ]
  },
  {
   "cell_type": "markdown",
   "metadata": {
    "editable": true
   },
   "source": [
    "## 4.3 Data dictionary \n",
    "Create a data dictionary for your data model. For each field, provide a brief description of what the data is and where it came from. You can include the data dictionary in the notebook or in a separate file."
   ]
  },
  {
   "cell_type": "markdown",
   "metadata": {
    "editable": true
   },
   "source": [
    "### Table: `fact_immigration`\n",
    "| PK | Field Name | Data Type | Ref | Description |\n",
    "|---|---|---|---|---|\n",
    "| x | admission_number | string |  | Admission Number |\n",
    "|  | cic_id | string |  | CIC Id |\n",
    "|  | insurance_number | string |  | INS number |\n",
    "|  | birth_year | integer |  | 4 digit year of birth |\n",
    "|  | age | integer |  | Age of Respondent in Years |\n",
    "|  | gender | string |  | Non-immigrant sex |\n",
    "|  | airline | string |  | Airline used to arrive in U.S. |\n",
    "|  | flight_number | string |  | Flight number of Airline used to arrive in U.S. |\n",
    "|  | visatype | string |  | Class of admission legally admitting the non-immigrant to temporarily stay in U.S. |\n",
    "|  | arrival_date | integer |  | ARRDATE is the Arrival Date in the USA. <br>It is a SAS date numeric field that a permanent format has not been applied. <br>Please apply whichever date format works for you. |\n",
    "|  | departure_date | integer |  | DEPDATE is the Departure Date from the USA. <br>It is a SAS date numeric field that a permanent format has not been applied. <br>Please apply whichever date format works for you. |\n",
    "|  | origin_country_code | integer | dim_country | Original country code |\n",
    "|  | residential_country_code | integer | dim_country | Residential country code |\n",
    "|  | port_code | string | dim_port | Port code |\n",
    "|  | mode_code | integer | dim_mode | Mode code |\n",
    "|  | state_code | string | dim_state | State code |\n",
    "|  | visa_code | string | dim_visa | Visa code |\n",
    "|  | year | integer |  | 4 digit year |\n",
    "|  | month | integer |  | Numeric month |"
   ]
  },
  {
   "cell_type": "markdown",
   "metadata": {
    "editable": true
   },
   "source": [
    "### Table: `fact_global_temp`\n",
    "| PK | Field Name | Data Type | Ref | Description |\n",
    "|---|---|---|---|---|\n",
    "| x | dt | timestamp |  | Datetime |\n",
    "|  | AverageTemperature | double |  | Average Temperature in recorded date |\n",
    "|  | AverageTemperatureUncertainty | double |  | Uncertain Average Temperature in recorded date |\n",
    "|  | City | string |  | City |\n",
    "|  | Country | string | dim_country | Country |\n",
    "|  | Latitude | string |  | Latitude of city |\n",
    "|  | Longitude | string |  | Longitude of city |\n",
    "|  | year | integer |  | Year (extracted from dt) |\n",
    "|  | month | integer |  | Month (extracted from dt) |\n",
    "|  | day | integer |  | Day (extracted from dt) |"
   ]
  },
  {
   "cell_type": "markdown",
   "metadata": {
    "editable": true
   },
   "source": [
    "### Table: `fact_us_cities`\n",
    "| PK | Field Name | Data Type | Ref | Description |\n",
    "|---|---|---|---|---|\n",
    "| x | StateCode | string | dim_state, dim_airport_code | State Code |\n",
    "|  | State | string |  | State name |\n",
    "|  | City | string |  | City name |\n",
    "|  | MedianAge | double |  | Median Age of recored city |\n",
    "|  | MalePopulation | integer |  | Male Population of recorded city |\n",
    "|  | FemalePopulation | integer |  | Female Population of recorded city |\n",
    "|  | TotalPopulation | integer |  | Total Population of recorded city |\n",
    "|  | NumberofVeterans | integer |  | Number of Veterans of recorded city |\n",
    "|  | Foreign-born | integer |  | Foreign-born of recorded city |\n",
    "|  | AverageHouseholdSize | double |  | Average Household Size of recorded city |"
   ]
  },
  {
   "cell_type": "markdown",
   "metadata": {
    "editable": true
   },
   "source": [
    "### Table: `dim_airport_code`\n",
    "| PK | Field Name | Data Type | Ref | Description |\n",
    "|---|---|---|---|---|\n",
    "| x | ident | string |  | Identity code |\n",
    "|  | type | string |  | Airport type |\n",
    "|  | name | string |  | Airport name |\n",
    "|  | elevation_ft | integer |  | Elevation feet |\n",
    "|  | continent | string |  | Continent of recorded airport |\n",
    "|  | iso_country | string |  | Country in ISO code |\n",
    "|  | iso_region | string |  | Region in ISO code |\n",
    "|  | municipality | string |  | Municipality |\n",
    "|  | gps_code | string |  | GPS code of recored airport |\n",
    "|  | iata_code | string |  | IATA code |\n",
    "|  | local_code | string |  | Local code |\n",
    "|  | coordinates | string |  | Coordinates of recorded airport |\n",
    "|  | iso_state | string | fact_immigration | State in ISO code |"
   ]
  },
  {
   "cell_type": "markdown",
   "metadata": {
    "editable": true
   },
   "source": [
    "### Table: `dim_us_cities_race`\n",
    "| PK | Field Name | Data Type | Ref | Description |\n",
    "|---|---|---|---|---|\n",
    "| x | StateCode | string | fact_us_cities | State Code |\n",
    "|  | State | string |  | State Name |\n",
    "|  | City | string |  | City |\n",
    "|  | Race | string |  | Race |\n",
    "|  | Count | integer |  | Number of people |"
   ]
  },
  {
   "cell_type": "markdown",
   "metadata": {
    "editable": true
   },
   "source": [
    "### Table: `dim_country`\n",
    "| PK | Field Name | Data Type | Ref | Description |\n",
    "|---|---|---|---|---|\n",
    "| x | country_code | string |  | Country code |\n",
    "|  | country | string |  | Country name |"
   ]
  },
  {
   "cell_type": "markdown",
   "metadata": {
    "editable": true
   },
   "source": [
    "### Table: `dim_port`\n",
    "| PK | Field Name | Data Type | Ref | Description |\n",
    "|---|---|---|---|---|\n",
    "| x | port_code | integer |  | Port code |\n",
    "|  | port | string |  | Port name |"
   ]
  },
  {
   "cell_type": "markdown",
   "metadata": {
    "editable": true
   },
   "source": [
    "### Table: `dim_mode`\n",
    "| PK | Field Name | Data Type | Ref | Description |\n",
    "|---|---|---|---|---|\n",
    "| x | mode_code | integer |  | Mode code |\n",
    "|  | mode | string |  | Travel mode |"
   ]
  },
  {
   "cell_type": "markdown",
   "metadata": {
    "editable": true
   },
   "source": [
    "### Table: `dim_state`\n",
    "| PK | Field Name | Data Type | Ref | Description |\n",
    "|---|---|---|---|---|\n",
    "| x | state_code | string |  | State code |\n",
    "|  | state | string |  | State name |"
   ]
  },
  {
   "cell_type": "markdown",
   "metadata": {
    "editable": true
   },
   "source": [
    "### Table: `dim_visa`\n",
    "| PK | Field Name | Data Type | Ref | Description |\n",
    "|---|---|---|---|---|\n",
    "| x | visa_code | string |  | Visa code |\n",
    "|  | category | string |  | Visa category |"
   ]
  },
  {
   "cell_type": "markdown",
   "metadata": {
    "editable": true
   },
   "source": [
    "---"
   ]
  },
  {
   "cell_type": "markdown",
   "metadata": {
    "editable": true
   },
   "source": [
    "# Step 5: Complete Project Write Up\n",
    "* Clearly state the rationale for the choice of tools and technologies for the project.\n",
    "* Propose how often the data should be updated and why.\n",
    "* Write a description of how you would approach the problem differently under the following scenarios:\n",
    " * The data was increased by 100x.\n",
    " * The data populates a dashboard that must be updated on a daily basis by 7am every day.\n",
    " * The database needed to be accessed by 100+ people."
   ]
  },
  {
   "cell_type": "markdown",
   "metadata": {
    "editable": true
   },
   "source": [
    "### The choice of tools and technologies for this project\n",
    "- Data lake concepts with the usage of:\n",
    "    - ELT pipelines using Spark (pySpark)\n",
    "    - Distributed File System technology (HDFS, AWS S3, etc.)\n",
    "    - OLAP data model for SQL schema-on-read technology (Hive, Athena, Trino, etc.)\n",
    "- Reason:\n",
    "    - The data is mostly stored in relational form.\n",
    "    - Howver, due to the high volume & strange data format of I94 SAS data, it would be better if we store it in data lake rather than traditional data warehouse.\n",
    "    - We can still use data warehouse technology (such as Redshift) later to implement a DWH, which could be identified as a lakehouse.\n",
    "#### Who would use this data model:\n",
    "- We think of different kinds of roles who would make use of this data, but they can be divided into 3 main roles:\n",
    "    - **Business Analyst**: People with roles relating to this business (in this case, airline industry & relating stakeholders such as immigration officers, governance, etc.). They would want to understand the pattern of immigration & make decision based on the data.\n",
    "    - **Data Analyst**: People with roles that needs to dive in & explore the data. They would want to create reports, dashboards or visualizations which can help the other stakeholders have better understandings about the data. They can also recognize & do analytics on the data to provide a better insight for businesses.\n",
    "    - **Data Scientist**: This is one of the reason why we choose data lake. The data which is collected could be used for data scientist roles to enrich, utilize & enhance some of data science projects such as Machine Learning, Deep Learning or etc. as it would be easier for DS to use it in data lake rather than traditional data warehouse.\n",
    "    \n",
    "#### What are the different types of questions that this data model can answer\n",
    "- Some of the question can be:\n",
    "    1. How many people of each race immigrate to US in a period of time?\n",
    "    2. What is the percentage of people immigrate to US from a specific country (e.g. Norway)?\n",
    "    3. What is the pattern/trend of immigration in a specific year? For example, which month that the immigration number is highest comparing to the lowest month?\n",
    "    \n",
    "\n",
    "### The frequency of data\n",
    "- This data should be updated on a daily basis. We can utilize Apache Airflow for such task\n",
    "    - However, for the dimensional data, they can be updated on a longer basis (weekly-monthly) to reduce the maintenance.\n",
    "\n",
    "### How we would approach the problem if\n",
    "- The data was increase by 100x:\n",
    "    - We will divide the pipeline to months and have to ulitize Apache Airflow to divide it into multile DAGs & tasks.\n",
    "- The data populates a dashboard that must be updated on a daily basis by 7am every day\n",
    "    - We will put the data which should be on the dashboard to Amazon Redshift & make the dashboard directly query from it.\n",
    "- The database needed to be accessed by 100+ people\n",
    "    - The Amazone Redshift will do the works of the data warehousing. Also, we have to create multiple AWS IAM roles for users to access the Redshift & restricting the number of commands they can query."
   ]
  },
  {
   "cell_type": "code",
   "execution_count": null,
   "metadata": {
    "editable": true
   },
   "outputs": [],
   "source": []
  }
 ],
 "metadata": {
  "kernelspec": {
   "display_name": "Python 3",
   "language": "python",
   "name": "python3"
  },
  "language_info": {
   "codemirror_mode": {
    "name": "ipython",
    "version": 3
   },
   "file_extension": ".py",
   "mimetype": "text/x-python",
   "name": "python",
   "nbconvert_exporter": "python",
   "pygments_lexer": "ipython3",
   "version": "3.6.3"
  }
 },
 "nbformat": 4,
 "nbformat_minor": 4
}
